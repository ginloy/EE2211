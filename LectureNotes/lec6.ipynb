{
 "cells": [
  {
   "cell_type": "code",
   "execution_count": 20,
   "metadata": {},
   "outputs": [
    {
     "name": "stdout",
     "output_type": "stream",
     "text": [
      "Estimated w\n",
      "[[0.2967033]\n",
      " [0.1978022]]\n",
      "\n",
      "\n",
      "Predicted y\n",
      "[[-0.0989011]]\n",
      "\n",
      "\n",
      "Predicted y class\n",
      "[[-1.]]\n"
     ]
    }
   ],
   "source": [
    "# EE2211 Lecture 6 Demo 1 Binary classification\n",
    "import numpy as np\n",
    "from numpy.linalg import inv\n",
    "\n",
    "X = np.array([[1,-7], [1,-5], [1,1], [1,5]])\n",
    "y = np.array([[-1], [-1], [1], [1]])\n",
    "## Linear regression for classification\n",
    "w = inv(X.T @ X) @ X.T @ y\n",
    "print(\"Estimated w\")\n",
    "print(w)\n",
    "print(\"\\n\")              \n",
    "              \n",
    "Xt = np.array([[1,-2]])\n",
    "y_predict = Xt @ w\n",
    "print(\"Predicted y\")\n",
    "print(y_predict)\n",
    "print(\"\\n\")           \n",
    "\n",
    "y_class_predict = np.sign(y_predict)\n",
    "print(\"Predicted y class\")\n",
    "print(y_class_predict)"
   ]
  },
  {
   "cell_type": "code",
   "execution_count": 21,
   "metadata": {},
   "outputs": [
    {
     "name": "stdout",
     "output_type": "stream",
     "text": [
      "One-hot encoding manual\n",
      "[[1]\n",
      " [2]\n",
      " [1]\n",
      " [3]]\n",
      "[[1 0 0]\n",
      " [0 1 0]\n",
      " [1 0 0]\n",
      " [0 0 1]]\n",
      "\n",
      "\n",
      "One-hot encoding function\n",
      "OneHotEncoder(sparse=False)\n",
      "[[1. 0. 0.]\n",
      " [0. 1. 0.]\n",
      " [1. 0. 0.]\n",
      " [0. 0. 1.]]\n"
     ]
    }
   ],
   "source": [
    "\n",
    "# EE2211 Lecture 6 Demo 2 Multi-class classification\n",
    "import numpy as np\n",
    "from numpy.linalg import inv\n",
    "from sklearn.preprocessing import OneHotEncoder\n",
    "X = np.array([[1, 1, 1], [1, -1, 1], [1, 1, 3], [1, 1, 0]])\n",
    "y_class = np.array([[1], [2], [1], [3]])\n",
    "y_onehot = np.array([[1, 0, 0], [0, 1, 0], [1, 0, 0], [0, 0, 1]])\n",
    "print(\"One-hot encoding manual\")\n",
    "print(y_class)\n",
    "print(y_onehot)\n",
    "print(\"\\n\")              \n",
    "              \n",
    "print(\"One-hot encoding function\")\n",
    "onehot_encoder = OneHotEncoder(sparse=False)\n",
    "print(onehot_encoder)\n",
    "Ytr_onehot = onehot_encoder.fit_transform(y_class)\n",
    "print(Ytr_onehot)\n"
   ]
  },
  {
   "cell_type": "code",
   "execution_count": 25,
   "metadata": {},
   "outputs": [
    {
     "name": "stdout",
     "output_type": "stream",
     "text": [
      "Estimated W\n",
      "[[ 1.66533454e-16  5.00000000e-01  5.00000000e-01]\n",
      " [ 2.85714286e-01 -5.00000000e-01  2.14285714e-01]\n",
      " [ 2.85714286e-01  5.55111512e-17 -2.85714286e-01]]\n",
      "\n",
      "\n",
      "Test\n",
      "[[-0.28571429  0.5         0.78571429]]\n",
      "\n",
      "\n",
      "Predicted class label test using argmax\n",
      "3\n"
     ]
    }
   ],
   "source": [
    "## Linear Classification\n",
    "print(\"Estimated W\")\n",
    "W = inv(X.T @ X) @ X.T @ Ytr_onehot\n",
    "print(W)\n",
    "X_test = np.array([[1, 0, -1]])\n",
    "yt_est = X_test@W;\n",
    "print(\"\\n\")\n",
    "print(\"Test\") \n",
    "print(yt_est)\n",
    "\n",
    "#yt_class = [[1 if y == max(x) else 0 for y in x] for x in yt_est ] \n",
    "#print(\"\\n\")\n",
    "#print(\"class label test\")   \n",
    "#print(yt_class)\n",
    "\n",
    "print(\"\\n\")\n",
    "print(\"Predicted class label test using argmax\")   \n",
    "print(np.argmax(yt_est)+1)"
   ]
  },
  {
   "cell_type": "code",
   "execution_count": 26,
   "metadata": {},
   "outputs": [
    {
     "name": "stdout",
     "output_type": "stream",
     "text": [
      "PolynomialFeatures()\n",
      "matrix P\n",
      "[[ 1.  1.  1.  1.  1.  1.]\n",
      " [ 1. -1.  1.  1. -1.  1.]\n",
      " [ 1.  1. -1.  1. -1.  1.]\n",
      " [ 1. -1. -1.  1.  1.  1.]]\n",
      "***************************************\n",
      "Under-determined system\n",
      "Unique constrained solution, no ridge\n",
      "[[-4.16333634e-17]\n",
      " [-1.11022302e-16]\n",
      " [-5.55111512e-17]\n",
      " [-4.16333634e-17]\n",
      " [ 1.00000000e+00]\n",
      " [-4.16333634e-17]]\n",
      "***************************************\n",
      "Approximation with dual ridge regression\n",
      "(4, 6)\n",
      "[[0.0001 0.     0.     0.    ]\n",
      " [0.     0.0001 0.     0.    ]\n",
      " [0.     0.     0.0001 0.    ]\n",
      " [0.     0.     0.     0.0001]]\n",
      "[[0.      ]\n",
      " [0.      ]\n",
      " [0.      ]\n",
      " [0.      ]\n",
      " [0.999975]\n",
      " [0.      ]]\n",
      "***************************************\n",
      "Approximation with primal ridge regression\n",
      "(4, 6)\n",
      "[[0.0001 0.     0.     0.     0.     0.    ]\n",
      " [0.     0.0001 0.     0.     0.     0.    ]\n",
      " [0.     0.     0.0001 0.     0.     0.    ]\n",
      " [0.     0.     0.     0.0001 0.     0.    ]\n",
      " [0.     0.     0.     0.     0.0001 0.    ]\n",
      " [0.     0.     0.     0.     0.     0.0001]]\n",
      "[[0.      ]\n",
      " [0.      ]\n",
      " [0.      ]\n",
      " [0.      ]\n",
      " [0.999975]\n",
      " [0.      ]]\n"
     ]
    }
   ],
   "source": [
    "#EE2211 Lecture 6 Demo 3 Polynomial regression\n",
    "import numpy as np\n",
    "from numpy.linalg import inv\n",
    "from numpy.linalg import matrix_rank\n",
    "from sklearn.preprocessing import PolynomialFeatures\n",
    "X = np.array([[1, 1], [-1, 1], [1, -1], [-1, -1]])\n",
    "y = np.array([[1], [-1], [-1], [1]])\n",
    "## Generate polynomial features\n",
    "order = 2\n",
    "poly = PolynomialFeatures(order)\n",
    "print(poly)\n",
    "P = poly.fit_transform(X)\n",
    "print(\"matrix P\")\n",
    "print(P)\n",
    "\n",
    "print(\"***************************************\")\n",
    "#print(matrix_rank(P))\n",
    "#PY = np.vstack((P.T, y.T))\n",
    "#print(matrix_rank(PY.T))\n",
    "\n",
    "## dual solution m < d (without ridge)\n",
    "w_dual = P.T @ inv(P @ P.T) @ y\n",
    "print(\"Under-determined system\")\n",
    "print(\"Unique constrained solution, no ridge\")\n",
    "print(w_dual)\n",
    "\n",
    "print(\"***************************************\")\n",
    "print(\"Approximation with dual ridge regression\")\n",
    "print(P.shape)\n",
    "reg_L2 = 0.0001*np.identity(P.shape[0]) #number of rows of P = Dual I\n",
    "print(reg_L2)\n",
    "w_dual_ridge = P.T @ (inv(P @ P.T + reg_L2)) @ y\n",
    "print(w_dual_ridge)\n",
    "\n",
    "print(\"***************************************\")\n",
    "## primal ridge \n",
    "print(\"Approximation with primal ridge regression\")\n",
    "print(P.shape)\n",
    "reg_L = 0.0001*np.identity(P.shape[1]) #number of columns of P = Primal I\n",
    "print(reg_L)\n",
    "w_primal_ridge = inv(P.T @ P + reg_L) @ P.T @ y\n",
    "print(w_primal_ridge)"
   ]
  },
  {
   "cell_type": "code",
   "execution_count": 28,
   "metadata": {},
   "outputs": [
    {
     "name": "stdout",
     "output_type": "stream",
     "text": [
      "PolynomialFeatures()\n",
      "matrix P\n",
      "[[ 1.  1.  1.  1.  1.  1.]\n",
      " [ 1. -1.  1.  1. -1.  1.]\n",
      " [ 1.  1. -1.  1. -1.  1.]\n",
      " [ 1. -1. -1.  1.  1.  1.]]\n",
      "Under-determined system\n",
      "4\n",
      "4\n",
      "Unique constrained solution, no ridge\n",
      "[[-4.16333634e-17]\n",
      " [-1.11022302e-16]\n",
      " [-5.55111512e-17]\n",
      " [-4.16333634e-17]\n",
      " [ 1.00000000e+00]\n",
      " [-4.16333634e-17]]\n"
     ]
    }
   ],
   "source": [
    "#EE2211 Lecture 6 Demo 3 Training/Learning\n",
    "import numpy as np\n",
    "from numpy.linalg import inv\n",
    "from numpy.linalg import matrix_rank\n",
    "from sklearn.preprocessing import PolynomialFeatures\n",
    "X = np.array([[1, 1], [-1, 1], [1, -1], [-1, -1]])\n",
    "y = np.array([[1], [-1], [-1], [1]])\n",
    "## Generate polynomial features\n",
    "order = 2\n",
    "poly = PolynomialFeatures(order)\n",
    "print(poly)\n",
    "P = poly.fit_transform(X)\n",
    "print(\"matrix P\")\n",
    "print(P)\n",
    "print(\"Under-determined system\")\n",
    "print(matrix_rank(P))\n",
    "PY = np.vstack((P.T, y.T))\n",
    "print(matrix_rank(PY.T))\n",
    "\n",
    "## dual solution m < d (without ridge)\n",
    "w_dual = P.T @ inv(P @ P.T) @ y\n",
    "print(\"Unique constrained solution, no ridge\")\n",
    "print(w_dual)\n",
    "#print(np.around(w_dual,3))"
   ]
  },
  {
   "cell_type": "code",
   "execution_count": 30,
   "metadata": {},
   "outputs": [
    {
     "name": "stdout",
     "output_type": "stream",
     "text": [
      "[[0.2 0.5]]\n",
      "[[1.   0.2  0.5  0.04 0.1  0.25]]\n",
      "Prediction\n",
      "[[0.1]]\n",
      "[[1.]]\n"
     ]
    }
   ],
   "source": [
    "#testing\n",
    "\n",
    "Xnew= np.array([ [0.2, 0.5]])\n",
    "# Two test points\n",
    "#Xnew= np.array([ [0.2, 0.5], [-0.9, 0.7]])\n",
    "Pnew = poly.fit_transform(Xnew)\n",
    "print(Xnew)\n",
    "print(Pnew)\n",
    "\n",
    "\n",
    "print(\"Prediction\")\n",
    "Ynew=Pnew@w_dual\n",
    "print(Ynew)\n",
    "print(np.sign(Ynew))"
   ]
  },
  {
   "cell_type": "code",
   "execution_count": null,
   "metadata": {},
   "outputs": [],
   "source": []
  }
 ],
 "metadata": {
  "kernelspec": {
   "display_name": "Python 3",
   "language": "python",
   "name": "python3"
  },
  "language_info": {
   "codemirror_mode": {
    "name": "ipython",
    "version": 3
   },
   "file_extension": ".py",
   "mimetype": "text/x-python",
   "name": "python",
   "nbconvert_exporter": "python",
   "pygments_lexer": "ipython3",
   "version": "3.8.5"
  }
 },
 "nbformat": 4,
 "nbformat_minor": 4
}
