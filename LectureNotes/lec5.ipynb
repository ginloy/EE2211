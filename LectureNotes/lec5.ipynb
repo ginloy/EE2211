{
 "cells": [
  {
   "cell_type": "code",
   "execution_count": 26,
   "metadata": {},
   "outputs": [
    {
     "name": "stdout",
     "output_type": "stream",
     "text": [
      "Estimated w\n",
      "[[-0.58791209]\n",
      " [ 0.77472527]]\n",
      "\n",
      "\n",
      "Predicted Ynew\n",
      "[-2.13736264]\n"
     ]
    }
   ],
   "source": [
    "# EE2211 Lecture 5 Demo 1 linear regression\n",
    "\n",
    "import matplotlib.pyplot as plt\n",
    "import numpy as np\n",
    "from numpy.linalg import inv\n",
    "\n",
    "## \n",
    "X = np.array([[1, -7], [1, -5], [1, 1], [1, 5]])\n",
    "Y = np.array([[-6], [-4], [-1], [4]])\n",
    "w = inv(X.T @ X) @ X.T @ Y\n",
    "print(\"Estimated w\")\n",
    "print(w)\n",
    "print(\"\\n\")\n",
    "\n",
    "x_new = np.array([1, -2])\n",
    "Ynew = x_new@w\n",
    "print(\"Predicted Ynew\")\n",
    "print(Ynew)\n",
    "plt.plot(-2, Ynew, 'mx', markersize=20)\n",
    "\n",
    "plt.plot(X[:,1],Y,'bo');\n",
    "x_axis = np.linspace(-7, 5, num=100)\n",
    "plt.plot(x_axis, w[0] + x_axis*w[1], 'r--');\n"
   ]
  },
  {
   "cell_type": "code",
   "execution_count": 27,
   "metadata": {},
   "outputs": [
    {
     "name": "stdout",
     "output_type": "stream",
     "text": [
      "Estimated w\n",
      "[[-0.75      ]\n",
      " [ 0.17857143]\n",
      " [ 0.92857143]]\n",
      "\n",
      "\n",
      "Predicted Ynew\n",
      "[[-1.67857143]]\n"
     ]
    }
   ],
   "source": [
    "# EE2211 Lecture 5 Demo 2 linear regression\n",
    "\n",
    "import pandas as pd\n",
    "import matplotlib.pyplot as plt\n",
    "import numpy as np\n",
    "from numpy.linalg import inv\n",
    "\n",
    "## \n",
    "X = np.array([[1, 1, 1], [1, -1, 1], [1, 1, 3], [1, 1, 0]])\n",
    "Y = np.array([[1], [0], [2], [-1]])\n",
    "w = inv(X.T @ X) @ X.T @ Y\n",
    "print(\"Estimated w\")\n",
    "print(w)\n",
    "print(\"\\n\")\n",
    "\n",
    "Xnew = np.array([[1, 0, -1]])\n",
    "Ynew = Xnew@w\n",
    "print(\"Predicted Ynew\")\n",
    "print(Ynew)"
   ]
  },
  {
   "cell_type": "code",
   "execution_count": 28,
   "metadata": {},
   "outputs": [],
   "source": [
    "#Visualization for Overdetermined Systems and Least Squares Solution\n",
    "\n",
    "import matplotlib.pyplot as plt\n",
    "import numpy as np\n",
    "from mpl_toolkits.mplot3d import Axes3D\n",
    "\n",
    "%matplotlib qt \n",
    "# =============== example 1 =================\n",
    "# first plane:\n",
    "a1 = 1.0\n",
    "b1 = 1.0\n",
    "c1 = 1.0\n",
    "d1 = -1.0\n",
    "\n",
    "# second plane:\n",
    "a2 = 1.0\n",
    "b2 = -1.0\n",
    "c2 = 1.0\n",
    "d2 = 0\n",
    "\n",
    "# third plane:\n",
    "a3 = 1.0\n",
    "b3 = 1.0\n",
    "c3 = 3.0\n",
    "d3 = -2\n",
    "\n",
    "# fourth plane:\n",
    "a4 = 1.0\n",
    "b4 = 1.0\n",
    "c4 = 0.0\n",
    "d4 = 1.0\n",
    "# ===========================================\n",
    "\n",
    "\n",
    "x = np.linspace(-1, 1, 100)\n",
    "y = np.linspace(-1, 1, 100)\n",
    "\n",
    "X, Y = np.meshgrid(x, y)\n",
    "\n",
    "Z1 = (-d1 - a1 * X - b1 * Y) / c1\n",
    "Z2 = (-d2 - a2 * X - b2 * Y) / c2\n",
    "Z3 = (-d3 - a3 * X - b3 * Y) / c3\n",
    "\n",
    "\n",
    "fig = plt.figure(figsize=(10, 10))\n",
    "ax = plt.axes(projection=\"3d\")\n",
    "ax.plot_surface(X, Y, Z1, alpha=0.45)\n",
    "ax.plot_surface(X, Y, Z2, alpha=0.45)\n",
    "ax.plot_surface(X, Y, Z3, alpha=0.45)\n",
    "\n",
    "\n",
    "# special treatment for the fourth plane\n",
    "x_new = np.linspace(-1, 1, 100)\n",
    "z_new = np.linspace(0, 2, 100)\n",
    "\n",
    "X_new, Z_new = np.meshgrid(x_new, z_new)\n",
    "Y_new = (-d4 - a4 * X) / b4\n",
    "ax.plot_surface(X_new, Y_new, Z_new, alpha=0.45)\n",
    "ax.plot(w[0], w[1], w[2], marker='o', markersize=10, color=\"blue\")\n",
    "plt.show()\n"
   ]
  },
  {
   "cell_type": "code",
   "execution_count": null,
   "metadata": {},
   "outputs": [],
   "source": []
  }
 ],
 "metadata": {
  "kernelspec": {
   "display_name": "Python 3",
   "language": "python",
   "name": "python3"
  },
  "language_info": {
   "codemirror_mode": {
    "name": "ipython",
    "version": 3
   },
   "file_extension": ".py",
   "mimetype": "text/x-python",
   "name": "python",
   "nbconvert_exporter": "python",
   "pygments_lexer": "ipython3",
   "version": "3.8.5"
  }
 },
 "nbformat": 4,
 "nbformat_minor": 4
}
