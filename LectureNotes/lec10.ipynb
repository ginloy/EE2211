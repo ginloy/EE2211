{
 "cells": [
  {
   "attachments": {},
   "cell_type": "markdown",
   "metadata": {},
   "source": [
    "## Load Dataset Split it into Train:Val:Test = 100:25:25"
   ]
  },
  {
   "cell_type": "code",
   "execution_count": 76,
   "metadata": {},
   "outputs": [
    {
     "name": "stdout",
     "output_type": "stream",
     "text": [
      "pandas version: 1.4.3\n",
      "scikit-learn version: 1.1.1\n"
     ]
    }
   ],
   "source": [
    "##--- load data from scikit ---##\n",
    "import numpy as np\n",
    "import pandas as pd\n",
    "print(\"pandas version: {}\".format(pd.__version__))\n",
    "import sklearn\n",
    "print(\"scikit-learn version: {}\".format(sklearn.__version__))\n",
    "from sklearn.datasets import load_iris\n",
    "\n",
    "## Set Seed\n",
    "seed = 20\n",
    "\n",
    "## Load dataset\n",
    "iris_dataset = load_iris()\n",
    "X = np.array(iris_dataset['data'])\n",
    "y = np.array(iris_dataset['target'])\n",
    "\n",
    "## one-hot encoding\n",
    "Y = list()\n",
    "for i in y:\n",
    "    letter = [0, 0, 0]\n",
    "    letter[i] = 1\n",
    "    Y.append(letter)\n",
    "Y = np.array(Y) \n",
    "\n",
    "## Random shuffle data and train-test split\n",
    "test_Idx = np.random.RandomState(seed=seed).permutation(Y.shape[0])\n",
    "X_test = X[test_Idx[:25]]\n",
    "Y_test = Y[test_Idx[:25]]\n",
    "X = X[test_Idx[25:]]\n",
    "Y = Y[test_Idx[25:]]\n",
    "\n",
    "# Random shuffle data\n",
    "Idx = np.random.RandomState(seed=seed).permutation(Y.shape[0])\n",
    "##--- Prepare training and validation data ---#\n",
    "# Prepare indexing for each fold\n",
    "X_val = X[Idx[:25]]\n",
    "Y_val = Y[Idx[:25]]\n",
    "Idxtrn = np.setdiff1d(Idx, Idx[:25])\n",
    "X_train = X[Idxtrn]\n",
    "Y_train = Y[Idxtrn]"
   ]
  },
  {
   "attachments": {},
   "cell_type": "markdown",
   "metadata": {},
   "source": [
    "## Model Training"
   ]
  },
  {
   "cell_type": "code",
   "execution_count": 77,
   "metadata": {},
   "outputs": [],
   "source": [
    "from sklearn.preprocessing import PolynomialFeatures\n",
    "error_rate_train_array = []\n",
    "error_rate_val_array = []\n",
    "wps = []\n",
    "##--- Loop for Polynomial orders 1 to 10 ---##\n",
    "for order in range(1,11):\n",
    "\n",
    "    \n",
    "    \n",
    "    ##--- Polynomial Classification ---##\n",
    "    poly = PolynomialFeatures(order)\n",
    "    P = poly.fit_transform(X_train)\n",
    "    Pval = poly.fit_transform(X_val)\n",
    "    if P.shape[0] > P.shape[1]: # over-/under-determined cases\n",
    "        reg_L = 0.00*np.identity(P.shape[1])\n",
    "        inv_PTP = np.linalg.inv(P.transpose().dot(P)+reg_L)\n",
    "        pinv_L = inv_PTP.dot(P.transpose())\n",
    "        wp = pinv_L.dot(Y_train)\n",
    "    else:\n",
    "        reg_R = 0.00*np.identity(P.shape[0])\n",
    "        inv_PPT = np.linalg.inv(P.dot(P.transpose())+reg_R)\n",
    "        pinv_R = P.transpose().dot(inv_PPT)\n",
    "        wp = pinv_R.dot(Y_train)\n",
    "        \n",
    "    wps.append(wp)\n",
    "    ##--- trained output ---##\n",
    "    y_train_p = P.dot(wp); \n",
    "    y_train_p_index = y_train_p.argmax(axis=-1)\n",
    "    y_train_pred = np.zeros_like(y_train_p)\n",
    "    y_train_pred[np.arange(y_train_p.shape[0]), y_train_p_index] = 1\n",
    "\n",
    "    # training classification error count and rate computation\n",
    "    difference = np.abs(Y_train - y_train_pred)\n",
    "    error_train = np.where(difference.any(axis=1))[0]\n",
    "    error_rate_train = len(error_train)/len(difference)\n",
    "\n",
    "    ##--- validation output ---##\n",
    "    y_val_p = Pval.dot(wp)\n",
    "    y_val_p_index = y_val_p.argmax(axis=-1)\n",
    "    y_val_pred = np.zeros_like(y_val_p)\n",
    "    y_val_pred[np.arange(y_val_p.shape[0]), y_val_p_index] = 1\n",
    "\n",
    "    # validation classification error count and rate computation\n",
    "    difference = np.abs(Y_val - y_val_pred)\n",
    "    error_val = np.where(difference.any(axis=1))[0]\n",
    "    error_rate_val = len(error_val)/len(difference)\n",
    "\n",
    "    error_rate_train_array += [error_rate_train] \n",
    "    error_rate_val_array += [error_rate_val] "
   ]
  },
  {
   "attachments": {},
   "cell_type": "markdown",
   "metadata": {},
   "source": [
    "## Plot the Train-Val Error curve and select the best order"
   ]
  },
  {
   "cell_type": "code",
   "execution_count": 78,
   "metadata": {},
   "outputs": [
    {
     "data": {
      "image/png": "[encoded data removed]",
      "text/plain": [
       "<Figure size 432x288 with 1 Axes>"
      ]
     },
     "metadata": {
      "needs_background": "light"
     },
     "output_type": "display_data"
    },
    {
     "name": "stdout",
     "output_type": "stream",
     "text": [
      "Best Order is 2\n"
     ]
    }
   ],
   "source": [
    "##--- plotting ---##\n",
    "import matplotlib.pyplot as plt\n",
    "order=[x for x in range(1,11)]\n",
    "plt.plot(order, error_rate_train_array, color='blue', marker='o', linewidth=3, \n",
    "label='Training')\n",
    "plt.plot(order, error_rate_val_array, color='orange', marker='x', linewidth=3, \n",
    "label='Validation')\n",
    "plt.xlabel('Order')\n",
    "plt.ylabel('Error Rates')\n",
    "plt.title('Training and Validation Error Rates')\n",
    "plt.legend()\n",
    "plt.show()\n",
    "\n",
    "# Select the best order according to the validation set\n",
    "best_order = np.argmin(error_rate_val_array) \n",
    "print(\"Best Order is {}\".format(best_order + 1))"
   ]
  },
  {
   "attachments": {},
   "cell_type": "markdown",
   "metadata": {},
   "source": [
    "## Test with the Best Order"
   ]
  },
  {
   "cell_type": "code",
   "execution_count": 79,
   "metadata": {},
   "outputs": [
    {
     "name": "stdout",
     "output_type": "stream",
     "text": [
      "The Testing Error Rate is 4.0 %\n"
     ]
    }
   ],
   "source": [
    "# Evaluate on the test set\n",
    "poly = PolynomialFeatures(best_order+1)\n",
    "P_test = poly.fit_transform(X_test)\n",
    "\n",
    "wp = wps[best_order]\n",
    "y_test_p = P_test.dot(wp)\n",
    "y_test_p_index = y_test_p.argmax(axis=-1)\n",
    "y_test_pred = np.zeros_like(y_test_p)\n",
    "y_test_pred[np.arange(y_test_p.shape[0]), y_test_p_index] = 1\n",
    "# validation classification error count and rate computation\n",
    "difference = np.abs(Y_test - y_test_pred)\n",
    "error_test = np.where(difference.any(axis=1))[0]\n",
    "error_rate_test = len(error_test)/len(difference)\n",
    "print(\"The Testing Error Rate is {} %\".format(error_rate_test *  100))"
   ]
  }
 ],
 "metadata": {
  "kernelspec": {
   "display_name": "ee2211",
   "language": "python",
   "name": "python3"
  },
  "language_info": {
   "codemirror_mode": {
    "name": "ipython",
    "version": 3
   },
   "file_extension": ".py",
   "mimetype": "text/x-python",
   "name": "python",
   "nbconvert_exporter": "python",
   "pygments_lexer": "ipython3",
   "version": "3.10.4"
  },
  "orig_nbformat": 4,
  "vscode": {
   "interpreter": {
    "hash": "d8b736e4b2f3e737e442281a0f665bc2e8a74eac6eee950fbe64a4d730e93c61"
   }
  }
 },
 "nbformat": 4,
 "nbformat_minor": 2
}
