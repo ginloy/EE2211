{
 "cells": [
  {
   "cell_type": "code",
   "execution_count": 1,
   "metadata": {},
   "outputs": [],
   "source": [
    "import numpy as np\n",
    "from sklearn.model_selection import train_test_split\n",
    "from sklearn.linear_model import LinearRegression, Ridge\n",
    "from sklearn import datasets"
   ]
  },
  {
   "cell_type": "code",
   "execution_count": 2,
   "metadata": {},
   "outputs": [],
   "source": [
    "# preparing the dataset into inputs (feature matrix) and outputs (target vector)\n",
    "data = datasets.load_boston()  # fetch the data\n",
    "X = data.data  # feature matrix\n",
    "y = data.target  # target vector\n",
    "\n",
    "# split the data into training and test samples\n",
    "X_train, X_test, y_train, y_test = train_test_split(X, y, test_size=0.3)"
   ]
  },
  {
   "cell_type": "code",
   "execution_count": 5,
   "metadata": {},
   "outputs": [
    {
     "data": {
      "text/plain": [
       "(152, 13)"
      ]
     },
     "execution_count": 5,
     "metadata": {},
     "output_type": "execute_result"
    }
   ],
   "source": [
    "X_test.shape"
   ]
  },
  {
   "cell_type": "code",
   "execution_count": 6,
   "metadata": {},
   "outputs": [],
   "source": [
    "def draw_bootstrap_sample(rng, X, y):\n",
    "    sample_indices = np.arange(X.shape[0])\n",
    "    bootstrap_indices = rng.choice(\n",
    "        sample_indices, size=sample_indices.shape[0], replace=True\n",
    "    )\n",
    "    return X[bootstrap_indices], y[bootstrap_indices]\n",
    "\n",
    "def bias_variance_decomp(estimator, X_train, y_train, X_test, y_test, num_rounds=200, random_seed=20):\n",
    "    rng = np.random.RandomState(random_seed)\n",
    "\n",
    "    all_pred = []\n",
    "    for i in range(num_rounds):\n",
    "        # do bootstrap sampling, i.e., sampling with replacement\n",
    "        X_boot, y_boot = draw_bootstrap_sample(rng, X_train, y_train)\n",
    "\n",
    "        # fit a model on bootstrap samples and make prediction on test samples\n",
    "        pred = estimator.fit(X_boot, y_boot).predict(X_test)\n",
    "        all_pred.append(pred)\n",
    "        \n",
    "    all_pred = np.array(all_pred)\n",
    "\n",
    "    # calculate MSE\n",
    "    avg_mse = ((all_pred - y_test[None,:])**2).mean() # y_test[None,:] will reshape y_test from (N,) to (1,N)\n",
    "\n",
    "    # average prediction of all bootstrap models on test set\n",
    "    avg_predictions = np.mean(all_pred, axis=0)\n",
    "    \n",
    "    # calculate bias squared\n",
    "    avg_bias = np.sum((avg_predictions - y_test) ** 2) / y_test.size\n",
    "    \n",
    "    # calculate variance\n",
    "    avg_var = np.sum((avg_predictions - all_pred) ** 2) / all_pred.size\n",
    "\n",
    "    return avg_mse, avg_bias, avg_var"
   ]
  },
  {
   "cell_type": "code",
   "execution_count": 11,
   "metadata": {},
   "outputs": [
    {
     "name": "stdout",
     "output_type": "stream",
     "text": [
      "Average mean-squared error: 19.758\n",
      "Average bias: 18.544\n",
      "Average variance: 1.214\n"
     ]
    }
   ],
   "source": [
    "# define the model\n",
    "model = LinearRegression()\n",
    " \n",
    "# estimating the bias and variance\n",
    "avg_mse, avg_bias, avg_var = bias_variance_decomp(model, X_train,\n",
    "                                                            y_train, X_test,\n",
    "                                                            y_test,\n",
    "                                                            num_rounds=500,\n",
    "                                                            random_seed=0)\n",
    "\n",
    "# summary of the results\n",
    "print('Average mean-squared error: %.3f' % avg_mse)\n",
    "print('Average bias: %.3f' % avg_bias)\n",
    "print('Average variance: %.3f' % avg_var)\n"
   ]
  },
  {
   "cell_type": "code",
   "execution_count": 8,
   "metadata": {},
   "outputs": [
    {
     "data": {
      "text/plain": [
       "array([ 6.67138004e-02,  5.31815368e-02,  3.73125040e-02,  2.63243995e+00,\n",
       "       -1.84812754e+01,  3.41149785e+00, -1.53768608e-02, -1.60135755e+00,\n",
       "        2.05252340e-01, -1.13375173e-02, -7.07021065e-01,  7.35349784e-03,\n",
       "       -5.78397304e-01])"
      ]
     },
     "execution_count": 8,
     "metadata": {},
     "output_type": "execute_result"
    }
   ],
   "source": [
    "model.coef_"
   ]
  },
  {
   "cell_type": "code",
   "execution_count": 16,
   "metadata": {},
   "outputs": [
    {
     "name": "stdout",
     "output_type": "stream",
     "text": [
      "Average mean-squared error: 19.813\n",
      "Average bias: 18.717\n",
      "Average variance: 1.096\n"
     ]
    },
    {
     "data": {
      "text/plain": [
       "array([ 0.08015184,  0.05776007, -0.02968158,  1.361545  , -1.8369329 ,\n",
       "        3.26361659, -0.03101414, -1.40953077,  0.2482763 , -0.01678675,\n",
       "       -0.47004686,  0.00965353, -0.61751086])"
      ]
     },
     "execution_count": 16,
     "metadata": {},
     "output_type": "execute_result"
    }
   ],
   "source": [
    "# define the model\n",
    "model = Ridge(alpha=10)\n",
    "\n",
    "# estimating the bias and variance\n",
    "avg_mse, avg_bias, avg_var = bias_variance_decomp(model, X_train,\n",
    "                                                            y_train, X_test,\n",
    "                                                            y_test,\n",
    "                                                            num_rounds=500,\n",
    "                                                            random_seed=0)\n",
    "\n",
    "# summary of the results\n",
    "print('Average mean-squared error: %.3f' % avg_mse)\n",
    "print('Average bias: %.3f' % avg_bias)\n",
    "print('Average variance: %.3f' % avg_var)\n",
    "model.coef_"
   ]
  },
  {
   "cell_type": "code",
   "execution_count": null,
   "metadata": {},
   "outputs": [],
   "source": []
  },
  {
   "cell_type": "code",
   "execution_count": null,
   "metadata": {},
   "outputs": [],
   "source": []
  }
 ],
 "metadata": {
  "kernelspec": {
   "display_name": "Python 3",
   "language": "python",
   "name": "python3"
  },
  "language_info": {
   "codemirror_mode": {
    "name": "ipython",
    "version": 3
   },
   "file_extension": ".py",
   "mimetype": "text/x-python",
   "name": "python",
   "nbconvert_exporter": "python",
   "pygments_lexer": "ipython3",
   "version": "3.8.5"
  }
 },
 "nbformat": 4,
 "nbformat_minor": 5
}
