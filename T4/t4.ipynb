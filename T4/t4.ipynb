{
 "cells": [
  {
   "cell_type": "markdown",
   "source": [
    "# Qn 1"
   ],
   "metadata": {
    "collapsed": false
   }
  },
  {
   "cell_type": "code",
   "execution_count": 19,
   "outputs": [
    {
     "data": {
      "text/plain": "Matrix([\n[1, 0, -1],\n[0, 1,  1]])",
      "text/latex": "$\\displaystyle \\left[\\begin{matrix}1 & 0 & -1\\\\0 & 1 & 1\\end{matrix}\\right]$"
     },
     "execution_count": 19,
     "metadata": {},
     "output_type": "execute_result"
    }
   ],
   "source": [
    "from sympy import *\n",
    "x = Matrix(2, 2, [1, 1, 3, 4])\n",
    "x = x.col_insert(3, Matrix([0, 1]))\n",
    "x.rref()[0]"
   ],
   "metadata": {
    "collapsed": false
   }
  },
  {
   "cell_type": "markdown",
   "source": [
    "System is even determined."
   ],
   "metadata": {
    "collapsed": false
   }
  },
  {
   "cell_type": "code",
   "execution_count": 20,
   "outputs": [
    {
     "data": {
      "text/plain": "1",
      "text/latex": "$\\displaystyle 1$"
     },
     "execution_count": 20,
     "metadata": {},
     "output_type": "execute_result"
    }
   ],
   "source": [
    "x = Matrix(2,2, [1, 1, 3, 4])\n",
    "x.det()"
   ],
   "metadata": {
    "collapsed": false
   }
  },
  {
   "cell_type": "markdown",
   "source": [
    "Determinant != 0. Hence x is invertible."
   ],
   "metadata": {
    "collapsed": false
   }
  },
  {
   "cell_type": "code",
   "execution_count": 21,
   "outputs": [
    {
     "data": {
      "text/plain": "Matrix([\n[-1],\n[ 1]])",
      "text/latex": "$\\displaystyle \\left[\\begin{matrix}-1\\\\1\\end{matrix}\\right]$"
     },
     "execution_count": 21,
     "metadata": {},
     "output_type": "execute_result"
    }
   ],
   "source": [
    "w = x.inv() * Matrix([0, 1])\n",
    "w"
   ],
   "metadata": {
    "collapsed": false
   }
  },
  {
   "cell_type": "markdown",
   "source": [
    "# Qn 2\n",
    "System is even determined. Rank(x) == Rank(x + y) == 2 < d\n",
    "X is not invertible because determinant == 0.\n",
    "No solution exists for W."
   ],
   "metadata": {
    "collapsed": false
   }
  },
  {
   "cell_type": "markdown",
   "source": [
    "# Qn 3"
   ],
   "metadata": {
    "collapsed": false
   }
  },
  {
   "cell_type": "code",
   "execution_count": 22,
   "outputs": [
    {
     "name": "stdout",
     "output_type": "stream",
     "text": [
      "2\n",
      "3\n"
     ]
    }
   ],
   "source": [
    "x = Matrix(3, 2, [1, 2, 2, 4, 1, -1])\n",
    "y = Matrix([0, 0.1, 1])\n",
    "print(x.rank())\n",
    "print(x.col_insert(3, y).rank())"
   ],
   "metadata": {
    "collapsed": false
   }
  },
  {
   "cell_type": "markdown",
   "source": [
    "System is over-determined.\n",
    "X is not invertible because it is not a square matrix.\n",
    "Least squares solution exists."
   ],
   "metadata": {
    "collapsed": false
   }
  },
  {
   "cell_type": "code",
   "execution_count": 23,
   "outputs": [
    {
     "data": {
      "text/plain": "Matrix([\n[ 0.68],\n[-0.32]])",
      "text/latex": "$\\displaystyle \\left[\\begin{matrix}0.68\\\\-0.32\\end{matrix}\\right]$"
     },
     "execution_count": 23,
     "metadata": {},
     "output_type": "execute_result"
    }
   ],
   "source": [
    "w = (x.T * x).inv() * x.T * y\n",
    "w"
   ],
   "metadata": {
    "collapsed": false
   }
  },
  {
   "cell_type": "markdown",
   "source": [
    "# Qn 4"
   ],
   "metadata": {
    "collapsed": false
   }
  },
  {
   "cell_type": "code",
   "execution_count": 24,
   "outputs": [
    {
     "name": "stdout",
     "output_type": "stream",
     "text": [
      "3\n",
      "3\n"
     ]
    }
   ],
   "source": [
    "x = Matrix(3, 4, [1, 0, 1,0, 1, -1, 1, -1, 1, 1, 0, 0])\n",
    "y = Matrix([1, 0, 1])\n",
    "print(x.rank())\n",
    "print(x.col_insert(4, y).rank())"
   ],
   "metadata": {
    "collapsed": false
   }
  },
  {
   "cell_type": "markdown",
   "source": [
    "System is under-determined.\n",
    "X is not invertible because it is not a square matrix.\n",
    "Least norm solution exists."
   ],
   "metadata": {
    "collapsed": false
   }
  },
  {
   "cell_type": "code",
   "execution_count": 25,
   "outputs": [
    {
     "data": {
      "text/plain": "Matrix([\n[1/2],\n[1/2],\n[1/2],\n[1/2]])",
      "text/latex": "$\\displaystyle \\left[\\begin{matrix}\\frac{1}{2}\\\\\\frac{1}{2}\\\\\\frac{1}{2}\\\\\\frac{1}{2}\\end{matrix}\\right]$"
     },
     "execution_count": 25,
     "metadata": {},
     "output_type": "execute_result"
    }
   ],
   "source": [
    "w = x.T * (x * x.T).inv() * y\n",
    "w"
   ],
   "metadata": {
    "collapsed": false
   }
  },
  {
   "cell_type": "markdown",
   "source": [
    "# Qn 5\n",
    "X^T^w = y\n",
    "System is even-determined because number of solutions == number of unknowns.\n",
    "X is not invertible because det(x) == 0\n",
    "No solution exists for w because rank(x) == 0"
   ],
   "metadata": {
    "collapsed": false
   }
  },
  {
   "cell_type": "markdown",
   "source": [
    "# Qn 6\n",
    "System under-determined. 3 unknowns, 2 equations.\n",
    "X is not invertible because it is not a square matrix.\n",
    "least norm solution exists"
   ],
   "metadata": {
    "collapsed": false
   }
  },
  {
   "cell_type": "code",
   "execution_count": 26,
   "outputs": [
    {
     "data": {
      "text/plain": "Matrix([\n[1/15],\n[2/15],\n[-1/3]])",
      "text/latex": "$\\displaystyle \\left[\\begin{matrix}\\frac{1}{15}\\\\\\frac{2}{15}\\\\- \\frac{1}{3}\\end{matrix}\\right]$"
     },
     "execution_count": 26,
     "metadata": {},
     "output_type": "execute_result"
    }
   ],
   "source": [
    "x = Matrix(3, 2, [1, 2, 2, 4, 1, -1])\n",
    "y = Matrix([0, 1])\n",
    "w = x * (x.T * x).inv() * y\n",
    "w"
   ],
   "metadata": {
    "collapsed": false
   }
  },
  {
   "cell_type": "markdown",
   "source": [
    "# Qn 7\n",
    "False\n",
    "# Qn 8\n",
    "c, d"
   ],
   "metadata": {
    "collapsed": false
   }
  },
  {
   "cell_type": "markdown",
   "source": [
    "# Qn 9\n",
    "unique solution: rank(X) == rank(X') == d"
   ],
   "metadata": {
    "collapsed": false
   }
  },
  {
   "cell_type": "code",
   "execution_count": 29,
   "outputs": [
    {
     "name": "stdout",
     "output_type": "stream",
     "text": [
      "2\n"
     ]
    },
    {
     "data": {
      "text/plain": "Matrix([\n[1, 0, 7 - 2*c],\n[0, 1,   c - 3],\n[0, 0,       0]])",
      "text/latex": "$\\displaystyle \\left[\\begin{matrix}1 & 0 & 7 - 2 c\\\\0 & 1 & c - 3\\\\0 & 0 & 0\\end{matrix}\\right]$"
     },
     "execution_count": 29,
     "metadata": {},
     "output_type": "execute_result"
    }
   ],
   "source": [
    "c = Symbol(\"c\")\n",
    "x = Matrix(3, 2, [1, 2, 5, 10, 3, 7])\n",
    "y = Matrix([1, 5, c])\n",
    "xp = x.col_insert(2, y)\n",
    "print(x.rank())\n",
    "xp.rref()[0]"
   ],
   "metadata": {
    "collapsed": false
   }
  },
  {
   "cell_type": "markdown",
   "source": [
    "The rank(X') is always equal to rank(X) for any real number c"
   ],
   "metadata": {
    "collapsed": false
   }
  },
  {
   "cell_type": "markdown",
   "source": [
    "# Qn 10\n",
    "No solution if rank(X) < rank(X'). Not possible in this case."
   ],
   "metadata": {
    "collapsed": false
   }
  },
  {
   "cell_type": "markdown",
   "source": [
    "# Qn 11\n",
    "X must have full column rank for x inverse to exist. All real numbers except 6 are possible."
   ],
   "metadata": {
    "collapsed": false
   }
  },
  {
   "cell_type": "code",
   "execution_count": null,
   "outputs": [],
   "source": [],
   "metadata": {
    "collapsed": false
   }
  }
 ],
 "metadata": {
  "kernelspec": {
   "display_name": "Python 3",
   "language": "python",
   "name": "python3"
  },
  "language_info": {
   "codemirror_mode": {
    "name": "ipython",
    "version": 2
   },
   "file_extension": ".py",
   "mimetype": "text/x-python",
   "name": "python",
   "nbconvert_exporter": "python",
   "pygments_lexer": "ipython2",
   "version": "2.7.6"
  }
 },
 "nbformat": 4,
 "nbformat_minor": 0
}
