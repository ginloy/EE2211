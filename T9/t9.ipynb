{
 "cells": [
  {
   "cell_type": "code",
   "execution_count": 1,
   "id": "43a29305",
   "metadata": {
    "collapsed": false,
    "jupyter": {
     "outputs_hidden": false,
     "source_hidden": false
    }
   },
   "outputs": [],
   "source": [
    "import numpy as np\n",
    "import matplotlib.pyplot as plt\n",
    "from sympy import *\n",
    "import pandas as pd\n",
    "from custom.functions import *\n",
    "from typing import Tuple"
   ]
  },
  {
   "cell_type": "markdown",
   "id": "94c4cff3",
   "metadata": {
    "jupyter": {
     "source_hidden": false
    }
   },
   "outputs": [],
   "source": [
    "# Qn 1"
   ]
  },
  {
   "cell_type": "markdown",
   "id": "ec5c3492",
   "metadata": {
    "jupyter": {
     "source_hidden": false
    }
   },
   "outputs": [],
   "source": [
    "### Gini Impurity"
   ]
  },
  {
   "cell_type": "code",
   "execution_count": 2,
   "id": "a09dfca1",
   "metadata": {
    "collapsed": false,
    "jupyter": {
     "outputs_hidden": false,
     "source_hidden": false
    }
   },
   "outputs": [
    {
     "name": "stdout",
     "output_type": "stream",
     "text": [
      "[0.648148148148148, 0.480000000000000, 0.531250000000000]\n"
     ]
    }
   ],
   "source": [
    "q_a = 1 - Rational(8, 18) ** 2 - Rational(5, 18)**2 - Rational(5, 18)**2\n",
    "q_b = 1 - Rational(6, 10) ** 2 - Rational(4, 10)**2\n",
    "q_c = 1 - Rational(1, 8)**2 - Rational(5, 8)**2 - Rational(2, 8)**2\n",
    "print(list(map(lambda x: x.evalf(), [q_a, q_b, q_c]))) "
   ]
  },
  {
   "cell_type": "code",
   "execution_count": 3,
   "id": "cd4cf9fc",
   "metadata": {
    "collapsed": false,
    "jupyter": {
     "outputs_hidden": false,
     "source_hidden": false
    }
   },
   "outputs": [
    {
     "name": "stdout",
     "output_type": "stream",
     "text": [
      "0.502777777777778\n"
     ]
    }
   ],
   "source": [
    "overall_gini = 10/18 * q_b + 8/18 * q_c\n",
    "print(overall_gini)"
   ]
  },
  {
   "cell_type": "markdown",
   "id": "80fa42c9",
   "metadata": {
    "jupyter": {
     "source_hidden": false
    }
   },
   "outputs": [],
   "source": [
    "### Entropy"
   ]
  },
  {
   "cell_type": "code",
   "execution_count": 4,
   "id": "317d6bd2",
   "metadata": {
    "collapsed": false,
    "jupyter": {
     "outputs_hidden": false,
     "source_hidden": false
    }
   },
   "outputs": [
    {
     "name": "stdout",
     "output_type": "stream",
     "text": [
      "1.5466316153937778 0.9709505944546686 1.2987949406953985\n"
     ]
    }
   ],
   "source": [
    "q_a = entropy([8/18, 5/18, 5/18])\n",
    "q_b = entropy([6/10, 4/10])\n",
    "q_c = entropy([1/8, 5/8, 2/8])\n",
    "print(q_a, q_b, q_c)"
   ]
  },
  {
   "cell_type": "code",
   "execution_count": 5,
   "id": "33a14c43",
   "metadata": {
    "collapsed": false,
    "jupyter": {
     "outputs_hidden": false,
     "source_hidden": false
    }
   },
   "outputs": [
    {
     "name": "stdout",
     "output_type": "stream",
     "text": [
      "1.116659192783882\n"
     ]
    }
   ],
   "source": [
    "overall = 10/18 * q_b + 8/18 * q_c\n",
    "print(overall)"
   ]
  },
  {
   "cell_type": "markdown",
   "id": "c9e7dcd4",
   "metadata": {
    "collapsed": false,
    "jupyter": {
     "outputs_hidden": false,
     "source_hidden": false
    }
   },
   "outputs": [],
   "source": [
    "### Misclassification Error"
   ]
  },
  {
   "cell_type": "code",
   "execution_count": 6,
   "id": "db0d571b",
   "metadata": {
    "collapsed": false,
    "jupyter": {
     "outputs_hidden": false,
     "source_hidden": false
    }
   },
   "outputs": [
    {
     "name": "stdout",
     "output_type": "stream",
     "text": [
      "0.5555555555555556 0.4 0.375\n"
     ]
    }
   ],
   "source": [
    "q_a = 1 - 8/18\n",
    "q_b = 1 - 6/10\n",
    "q_c = 1 - 5/8\n",
    "print(q_a, q_b, q_c)"
   ]
  },
  {
   "cell_type": "code",
   "execution_count": 7,
   "id": "96461a92",
   "metadata": {
    "collapsed": false,
    "jupyter": {
     "outputs_hidden": false,
     "source_hidden": false
    }
   },
   "outputs": [
    {
     "name": "stdout",
     "output_type": "stream",
     "text": [
      "0.3888888888888889\n"
     ]
    }
   ],
   "source": [
    "overall = 10/18 * q_b + 8/18 * q_c\n",
    "print(overall)"
   ]
  },
  {
   "cell_type": "markdown",
   "id": "61888a30",
   "metadata": {
    "jupyter": {
     "source_hidden": false
    }
   },
   "outputs": [],
   "source": [
    "# Question 2"
   ]
  },
  {
   "cell_type": "code",
   "execution_count": 8,
   "id": "5cf6e5e3",
   "metadata": {
    "collapsed": false,
    "jupyter": {
     "outputs_hidden": false,
     "source_hidden": false
    }
   },
   "outputs": [],
   "source": [
    "x = np.array([1, 0.8, 2, 2.5, 3, 4, 4.2, 6, 6.3, 7.4, 8, 8.2, 9]).reshape(-1, 1)\n",
    "y = np.array([2, 3, 2.5, 1, 2.3, 2.8, 1.5, 2.6, 3.5, 4, 3.5, 5, 4.5]).reshape(-1, 1)\n",
    "data = np.hstack((x, y))\n"
   ]
  },
  {
   "cell_type": "code",
   "execution_count": 9,
   "id": "ef3c9d18",
   "metadata": {},
   "outputs": [
    {
     "name": "stdout",
     "output_type": "stream",
     "text": [
      "0.5101648351648351\n"
     ]
    }
   ],
   "source": [
    "threshold = 5.0\n",
    "left = data[data[:, 0] < threshold]\n",
    "right = data[data[:, 0] >= threshold]\n",
    "left_mean = np.mean(left[:, 1])\n",
    "right_mean = np.mean(right[:, 1])\n",
    "mse = (np.sum((left[:, 1] - left_mean) ** 2) + np.sum((right[:, 1] - right_mean) ** 2)) / len(data)\n",
    "print(mse)"
   ]
  },
  {
   "cell_type": "code",
   "execution_count": 10,
   "outputs": [
    {
     "name": "stdout",
     "output_type": "stream",
     "text": [
      "1.2223668639053253\n"
     ]
    }
   ],
   "source": [
    "root_mean = np.mean(data[:, 1])\n",
    "mse = np.sum((data[:, 1] - root_mean) ** 2) / len(data)\n",
    "print(mse)"
   ],
   "metadata": {
    "collapsed": false
   }
  },
  {
   "cell_type": "markdown",
   "source": [
    "# Question 3"
   ],
   "metadata": {
    "collapsed": false
   }
  },
  {
   "cell_type": "code",
   "execution_count": 11,
   "outputs": [
    {
     "data": {
      "text/plain": "Index(['crim', 'zn', 'indus', 'chas', 'nox', 'rm', 'age', 'dis', 'rad', 'tax',\n       'ptratio', 'b', 'lstat', 'medv'],\n      dtype='object')"
     },
     "execution_count": 11,
     "metadata": {},
     "output_type": "execute_result"
    }
   ],
   "source": [
    "df = pd.read_csv(\"housing.csv\")\n",
    "df.columns"
   ],
   "metadata": {
    "collapsed": false
   }
  },
  {
   "cell_type": "code",
   "execution_count": 12,
   "outputs": [
    {
     "data": {
      "text/plain": "array([[ 4.98, 24.  ],\n       [ 9.14, 21.6 ],\n       [ 4.03, 34.7 ],\n       ...,\n       [ 5.64, 23.9 ],\n       [ 6.48, 22.  ],\n       [ 7.88, 11.9 ]])"
     },
     "execution_count": 12,
     "metadata": {},
     "output_type": "execute_result"
    }
   ],
   "source": [
    "x = np.array(df.lstat).reshape(-1, 1)\n",
    "y = np.array(df.medv).reshape(-1, 1)\n",
    "data = np.hstack((x, y))\n",
    "data"
   ],
   "metadata": {
    "collapsed": false
   }
  },
  {
   "cell_type": "code",
   "execution_count": 13,
   "outputs": [],
   "source": [
    "def find_best_split(data: np.ndarray) -> Tuple[int, np.ndarray, np.ndarray]:\n",
    "    best_mse = np.inf\n",
    "    best_threshold = None\n",
    "    best_left = None\n",
    "    best_right = None\n",
    "    for i in range(len(data)):\n",
    "        threshold = data[i, 0]\n",
    "        left = data[data[:, 0] < threshold]\n",
    "        right = data[data[:, 0] >= threshold]\n",
    "        left_mean = np.mean(left[:, 1])\n",
    "        right_mean = np.mean(right[:, 1])\n",
    "        mse = (np.sum((left[:, 1] - left_mean) ** 2) + np.sum((right[:, 1] - right_mean) ** 2)) / len(data)\n",
    "        if mse < best_mse:\n",
    "            best_mse = mse\n",
    "            best_threshold = threshold\n",
    "            best_left = left\n",
    "            best_right = right\n",
    "    return best_threshold, best_left, best_right"
   ],
   "metadata": {
    "collapsed": false
   }
  },
  {
   "cell_type": "code",
   "execution_count": 14,
   "outputs": [
    {
     "name": "stderr",
     "output_type": "stream",
     "text": [
      "/Library/Frameworks/Python.framework/Versions/3.9/lib/python3.9/site-packages/numpy/core/fromnumeric.py:3440: RuntimeWarning: Mean of empty slice.\n",
      "  return _methods._mean(a, axis=axis, dtype=dtype,\n",
      "/Library/Frameworks/Python.framework/Versions/3.9/lib/python3.9/site-packages/numpy/core/_methods.py:189: RuntimeWarning: invalid value encountered in double_scalars\n",
      "  ret = ret.dtype.type(ret / rcount)\n"
     ]
    }
   ],
   "source": [
    "root_threshold, l, r = find_best_split(data)\n",
    "l_threshold, ll, lr = find_best_split(l)\n",
    "r_threshold, rl, rr = find_best_split(r)\n",
    "\n",
    "ll[:, 1] = np.mean(ll[:, 1])\n",
    "lr[:, 1] = np.mean(lr[:, 1])\n",
    "rl[:, 1] = np.mean(rl[:, 1])\n",
    "rr[:, 1] = np.mean(rr[:, 1])\n",
    "res = np.concatenate((ll, lr, rl, rr))"
   ],
   "metadata": {
    "collapsed": false
   }
  },
  {
   "cell_type": "code",
   "execution_count": 15,
   "outputs": [
    {
     "data": {
      "text/plain": "array([39.718     , 39.718     , 39.718     , 39.718     , 39.718     ,\n       39.718     , 39.718     , 39.718     , 39.718     , 39.718     ,\n       39.718     , 39.718     , 39.718     , 39.718     , 39.718     ,\n       39.718     , 39.718     , 39.718     , 39.718     , 39.718     ,\n       39.718     , 39.718     , 39.718     , 39.718     , 39.718     ,\n       39.718     , 39.718     , 39.718     , 39.718     , 39.718     ,\n       39.718     , 39.718     , 39.718     , 39.718     , 39.718     ,\n       39.718     , 39.718     , 39.718     , 39.718     , 39.718     ,\n       39.718     , 39.718     , 39.718     , 39.718     , 39.718     ,\n       39.718     , 39.718     , 39.718     , 39.718     , 39.718     ,\n       26.6462963 , 26.6462963 , 26.6462963 , 26.6462963 , 26.6462963 ,\n       26.6462963 , 26.6462963 , 26.6462963 , 26.6462963 , 26.6462963 ,\n       26.6462963 , 26.6462963 , 26.6462963 , 26.6462963 , 26.6462963 ,\n       26.6462963 , 26.6462963 , 26.6462963 , 26.6462963 , 26.6462963 ,\n       26.6462963 , 26.6462963 , 26.6462963 , 26.6462963 , 26.6462963 ,\n       26.6462963 , 26.6462963 , 26.6462963 , 26.6462963 , 26.6462963 ,\n       26.6462963 , 26.6462963 , 26.6462963 , 26.6462963 , 26.6462963 ,\n       26.6462963 , 26.6462963 , 26.6462963 , 26.6462963 , 26.6462963 ,\n       26.6462963 , 26.6462963 , 26.6462963 , 26.6462963 , 26.6462963 ,\n       26.6462963 , 26.6462963 , 26.6462963 , 26.6462963 , 26.6462963 ,\n       26.6462963 , 26.6462963 , 26.6462963 , 26.6462963 , 26.6462963 ,\n       26.6462963 , 26.6462963 , 26.6462963 , 26.6462963 , 26.6462963 ,\n       26.6462963 , 26.6462963 , 26.6462963 , 26.6462963 , 26.6462963 ,\n       26.6462963 , 26.6462963 , 26.6462963 , 26.6462963 , 26.6462963 ,\n       26.6462963 , 26.6462963 , 26.6462963 , 26.6462963 , 26.6462963 ,\n       26.6462963 , 26.6462963 , 26.6462963 , 26.6462963 , 26.6462963 ,\n       26.6462963 , 26.6462963 , 26.6462963 , 26.6462963 , 26.6462963 ,\n       26.6462963 , 26.6462963 , 26.6462963 , 26.6462963 , 26.6462963 ,\n       26.6462963 , 26.6462963 , 26.6462963 , 26.6462963 , 26.6462963 ,\n       26.6462963 , 26.6462963 , 26.6462963 , 26.6462963 , 26.6462963 ,\n       26.6462963 , 26.6462963 , 26.6462963 , 26.6462963 , 26.6462963 ,\n       26.6462963 , 26.6462963 , 26.6462963 , 26.6462963 , 26.6462963 ,\n       26.6462963 , 26.6462963 , 26.6462963 , 26.6462963 , 26.6462963 ,\n       26.6462963 , 26.6462963 , 26.6462963 , 26.6462963 , 26.6462963 ,\n       26.6462963 , 26.6462963 , 26.6462963 , 26.6462963 , 26.6462963 ,\n       26.6462963 , 26.6462963 , 26.6462963 , 26.6462963 , 26.6462963 ,\n       26.6462963 , 26.6462963 , 26.6462963 , 26.6462963 , 26.6462963 ,\n       26.6462963 , 26.6462963 , 26.6462963 , 26.6462963 , 26.6462963 ,\n       26.6462963 , 26.6462963 , 26.6462963 , 26.6462963 , 26.6462963 ,\n       26.6462963 , 26.6462963 , 26.6462963 , 26.6462963 , 26.6462963 ,\n       26.6462963 , 26.6462963 , 26.6462963 , 26.6462963 , 26.6462963 ,\n       26.6462963 , 26.6462963 , 26.6462963 , 26.6462963 , 26.6462963 ,\n       26.6462963 , 26.6462963 , 20.302     , 20.302     , 20.302     ,\n       20.302     , 20.302     , 20.302     , 20.302     , 20.302     ,\n       20.302     , 20.302     , 20.302     , 20.302     , 20.302     ,\n       20.302     , 20.302     , 20.302     , 20.302     , 20.302     ,\n       20.302     , 20.302     , 20.302     , 20.302     , 20.302     ,\n       20.302     , 20.302     , 20.302     , 20.302     , 20.302     ,\n       20.302     , 20.302     , 20.302     , 20.302     , 20.302     ,\n       20.302     , 20.302     , 20.302     , 20.302     , 20.302     ,\n       20.302     , 20.302     , 20.302     , 20.302     , 20.302     ,\n       20.302     , 20.302     , 20.302     , 20.302     , 20.302     ,\n       20.302     , 20.302     , 20.302     , 20.302     , 20.302     ,\n       20.302     , 20.302     , 20.302     , 20.302     , 20.302     ,\n       20.302     , 20.302     , 20.302     , 20.302     , 20.302     ,\n       20.302     , 20.302     , 20.302     , 20.302     , 20.302     ,\n       20.302     , 20.302     , 20.302     , 20.302     , 20.302     ,\n       20.302     , 20.302     , 20.302     , 20.302     , 20.302     ,\n       20.302     , 20.302     , 20.302     , 20.302     , 20.302     ,\n       20.302     , 20.302     , 20.302     , 20.302     , 20.302     ,\n       20.302     , 20.302     , 20.302     , 20.302     , 20.302     ,\n       20.302     , 20.302     , 20.302     , 20.302     , 20.302     ,\n       20.302     , 20.302     , 20.302     , 20.302     , 20.302     ,\n       20.302     , 20.302     , 20.302     , 20.302     , 20.302     ,\n       20.302     , 20.302     , 20.302     , 20.302     , 20.302     ,\n       20.302     , 20.302     , 20.302     , 20.302     , 20.302     ,\n       20.302     , 20.302     , 20.302     , 20.302     , 20.302     ,\n       20.302     , 20.302     , 20.302     , 20.302     , 20.302     ,\n       20.302     , 20.302     , 20.302     , 20.302     , 20.302     ,\n       20.302     , 20.302     , 20.302     , 20.302     , 20.302     ,\n       20.302     , 20.302     , 20.302     , 20.302     , 20.302     ,\n       20.302     , 20.302     , 20.302     , 20.302     , 20.302     ,\n       20.302     , 20.302     , 14.26180556, 14.26180556, 14.26180556,\n       14.26180556, 14.26180556, 14.26180556, 14.26180556, 14.26180556,\n       14.26180556, 14.26180556, 14.26180556, 14.26180556, 14.26180556,\n       14.26180556, 14.26180556, 14.26180556, 14.26180556, 14.26180556,\n       14.26180556, 14.26180556, 14.26180556, 14.26180556, 14.26180556,\n       14.26180556, 14.26180556, 14.26180556, 14.26180556, 14.26180556,\n       14.26180556, 14.26180556, 14.26180556, 14.26180556, 14.26180556,\n       14.26180556, 14.26180556, 14.26180556, 14.26180556, 14.26180556,\n       14.26180556, 14.26180556, 14.26180556, 14.26180556, 14.26180556,\n       14.26180556, 14.26180556, 14.26180556, 14.26180556, 14.26180556,\n       14.26180556, 14.26180556, 14.26180556, 14.26180556, 14.26180556,\n       14.26180556, 14.26180556, 14.26180556, 14.26180556, 14.26180556,\n       14.26180556, 14.26180556, 14.26180556, 14.26180556, 14.26180556,\n       14.26180556, 14.26180556, 14.26180556, 14.26180556, 14.26180556,\n       14.26180556, 14.26180556, 14.26180556, 14.26180556, 14.26180556,\n       14.26180556, 14.26180556, 14.26180556, 14.26180556, 14.26180556,\n       14.26180556, 14.26180556, 14.26180556, 14.26180556, 14.26180556,\n       14.26180556, 14.26180556, 14.26180556, 14.26180556, 14.26180556,\n       14.26180556, 14.26180556, 14.26180556, 14.26180556, 14.26180556,\n       14.26180556, 14.26180556, 14.26180556, 14.26180556, 14.26180556,\n       14.26180556, 14.26180556, 14.26180556, 14.26180556, 14.26180556,\n       14.26180556, 14.26180556, 14.26180556, 14.26180556, 14.26180556,\n       14.26180556, 14.26180556, 14.26180556, 14.26180556, 14.26180556,\n       14.26180556, 14.26180556, 14.26180556, 14.26180556, 14.26180556,\n       14.26180556, 14.26180556, 14.26180556, 14.26180556, 14.26180556,\n       14.26180556, 14.26180556, 14.26180556, 14.26180556, 14.26180556,\n       14.26180556, 14.26180556, 14.26180556, 14.26180556, 14.26180556,\n       14.26180556, 14.26180556, 14.26180556, 14.26180556, 14.26180556,\n       14.26180556, 14.26180556, 14.26180556, 14.26180556, 14.26180556,\n       14.26180556])"
     },
     "execution_count": 15,
     "metadata": {},
     "output_type": "execute_result"
    }
   ],
   "source": [
    "res[:, 1]"
   ],
   "metadata": {
    "collapsed": false
   }
  },
  {
   "cell_type": "code",
   "execution_count": 16,
   "outputs": [],
   "source": [
    "from sklearn.tree import DecisionTreeRegressor\n",
    "from sklearn.tree import DecisionTreeClassifier"
   ],
   "metadata": {
    "collapsed": false
   }
  },
  {
   "cell_type": "code",
   "execution_count": 17,
   "outputs": [
    {
     "data": {
      "text/plain": "DecisionTreeRegressor(max_depth=2)",
      "text/html": "<style>#sk-container-id-1 {color: black;background-color: white;}#sk-container-id-1 pre{padding: 0;}#sk-container-id-1 div.sk-toggleable {background-color: white;}#sk-container-id-1 label.sk-toggleable__label {cursor: pointer;display: block;width: 100%;margin-bottom: 0;padding: 0.3em;box-sizing: border-box;text-align: center;}#sk-container-id-1 label.sk-toggleable__label-arrow:before {content: \"▸\";float: left;margin-right: 0.25em;color: #696969;}#sk-container-id-1 label.sk-toggleable__label-arrow:hover:before {color: black;}#sk-container-id-1 div.sk-estimator:hover label.sk-toggleable__label-arrow:before {color: black;}#sk-container-id-1 div.sk-toggleable__content {max-height: 0;max-width: 0;overflow: hidden;text-align: left;background-color: #f0f8ff;}#sk-container-id-1 div.sk-toggleable__content pre {margin: 0.2em;color: black;border-radius: 0.25em;background-color: #f0f8ff;}#sk-container-id-1 input.sk-toggleable__control:checked~div.sk-toggleable__content {max-height: 200px;max-width: 100%;overflow: auto;}#sk-container-id-1 input.sk-toggleable__control:checked~label.sk-toggleable__label-arrow:before {content: \"▾\";}#sk-container-id-1 div.sk-estimator input.sk-toggleable__control:checked~label.sk-toggleable__label {background-color: #d4ebff;}#sk-container-id-1 div.sk-label input.sk-toggleable__control:checked~label.sk-toggleable__label {background-color: #d4ebff;}#sk-container-id-1 input.sk-hidden--visually {border: 0;clip: rect(1px 1px 1px 1px);clip: rect(1px, 1px, 1px, 1px);height: 1px;margin: -1px;overflow: hidden;padding: 0;position: absolute;width: 1px;}#sk-container-id-1 div.sk-estimator {font-family: monospace;background-color: #f0f8ff;border: 1px dotted black;border-radius: 0.25em;box-sizing: border-box;margin-bottom: 0.5em;}#sk-container-id-1 div.sk-estimator:hover {background-color: #d4ebff;}#sk-container-id-1 div.sk-parallel-item::after {content: \"\";width: 100%;border-bottom: 1px solid gray;flex-grow: 1;}#sk-container-id-1 div.sk-label:hover label.sk-toggleable__label {background-color: #d4ebff;}#sk-container-id-1 div.sk-serial::before {content: \"\";position: absolute;border-left: 1px solid gray;box-sizing: border-box;top: 0;bottom: 0;left: 50%;z-index: 0;}#sk-container-id-1 div.sk-serial {display: flex;flex-direction: column;align-items: center;background-color: white;padding-right: 0.2em;padding-left: 0.2em;position: relative;}#sk-container-id-1 div.sk-item {position: relative;z-index: 1;}#sk-container-id-1 div.sk-parallel {display: flex;align-items: stretch;justify-content: center;background-color: white;position: relative;}#sk-container-id-1 div.sk-item::before, #sk-container-id-1 div.sk-parallel-item::before {content: \"\";position: absolute;border-left: 1px solid gray;box-sizing: border-box;top: 0;bottom: 0;left: 50%;z-index: -1;}#sk-container-id-1 div.sk-parallel-item {display: flex;flex-direction: column;z-index: 1;position: relative;background-color: white;}#sk-container-id-1 div.sk-parallel-item:first-child::after {align-self: flex-end;width: 50%;}#sk-container-id-1 div.sk-parallel-item:last-child::after {align-self: flex-start;width: 50%;}#sk-container-id-1 div.sk-parallel-item:only-child::after {width: 0;}#sk-container-id-1 div.sk-dashed-wrapped {border: 1px dashed gray;margin: 0 0.4em 0.5em 0.4em;box-sizing: border-box;padding-bottom: 0.4em;background-color: white;}#sk-container-id-1 div.sk-label label {font-family: monospace;font-weight: bold;display: inline-block;line-height: 1.2em;}#sk-container-id-1 div.sk-label-container {text-align: center;}#sk-container-id-1 div.sk-container {/* jupyter's `normalize.less` sets `[hidden] { display: none; }` but bootstrap.min.css set `[hidden] { display: none !important; }` so we also need the `!important` here to be able to override the default hidden behavior on the sphinx rendered scikit-learn.org. See: https://github.com/scikit-learn/scikit-learn/issues/21755 */display: inline-block !important;position: relative;}#sk-container-id-1 div.sk-text-repr-fallback {display: none;}</style><div id=\"sk-container-id-1\" class=\"sk-top-container\"><div class=\"sk-text-repr-fallback\"><pre>DecisionTreeRegressor(max_depth=2)</pre><b>In a Jupyter environment, please rerun this cell to show the HTML representation or trust the notebook. <br />On GitHub, the HTML representation is unable to render, please try loading this page with nbviewer.org.</b></div><div class=\"sk-container\" hidden><div class=\"sk-item\"><div class=\"sk-estimator sk-toggleable\"><input class=\"sk-toggleable__control sk-hidden--visually\" id=\"sk-estimator-id-1\" type=\"checkbox\" checked><label for=\"sk-estimator-id-1\" class=\"sk-toggleable__label sk-toggleable__label-arrow\">DecisionTreeRegressor</label><div class=\"sk-toggleable__content\"><pre>DecisionTreeRegressor(max_depth=2)</pre></div></div></div></div></div>"
     },
     "execution_count": 17,
     "metadata": {},
     "output_type": "execute_result"
    }
   ],
   "source": [
    "regressor = DecisionTreeRegressor(max_depth=2)\n",
    "regressor.fit(x, y)"
   ],
   "metadata": {
    "collapsed": false
   }
  },
  {
   "cell_type": "code",
   "execution_count": 18,
   "outputs": [
    {
     "data": {
      "text/plain": "array([39.718     , 39.718     , 39.718     , 39.718     , 39.718     ,\n       39.718     , 39.718     , 39.718     , 39.718     , 39.718     ,\n       39.718     , 39.718     , 39.718     , 39.718     , 39.718     ,\n       39.718     , 39.718     , 39.718     , 39.718     , 39.718     ,\n       39.718     , 39.718     , 39.718     , 39.718     , 39.718     ,\n       39.718     , 39.718     , 39.718     , 39.718     , 39.718     ,\n       39.718     , 39.718     , 39.718     , 39.718     , 39.718     ,\n       39.718     , 39.718     , 39.718     , 39.718     , 39.718     ,\n       39.718     , 39.718     , 39.718     , 39.718     , 39.718     ,\n       39.718     , 39.718     , 39.718     , 39.718     , 39.718     ,\n       26.6462963 , 26.6462963 , 26.6462963 , 26.6462963 , 26.6462963 ,\n       26.6462963 , 26.6462963 , 26.6462963 , 26.6462963 , 26.6462963 ,\n       26.6462963 , 26.6462963 , 26.6462963 , 26.6462963 , 26.6462963 ,\n       26.6462963 , 26.6462963 , 26.6462963 , 26.6462963 , 26.6462963 ,\n       26.6462963 , 26.6462963 , 26.6462963 , 26.6462963 , 26.6462963 ,\n       26.6462963 , 26.6462963 , 26.6462963 , 26.6462963 , 26.6462963 ,\n       26.6462963 , 26.6462963 , 26.6462963 , 26.6462963 , 26.6462963 ,\n       26.6462963 , 26.6462963 , 26.6462963 , 26.6462963 , 26.6462963 ,\n       26.6462963 , 26.6462963 , 26.6462963 , 26.6462963 , 26.6462963 ,\n       26.6462963 , 26.6462963 , 26.6462963 , 26.6462963 , 26.6462963 ,\n       26.6462963 , 26.6462963 , 26.6462963 , 26.6462963 , 26.6462963 ,\n       26.6462963 , 26.6462963 , 26.6462963 , 26.6462963 , 26.6462963 ,\n       26.6462963 , 26.6462963 , 26.6462963 , 26.6462963 , 26.6462963 ,\n       26.6462963 , 26.6462963 , 26.6462963 , 26.6462963 , 26.6462963 ,\n       26.6462963 , 26.6462963 , 26.6462963 , 26.6462963 , 26.6462963 ,\n       26.6462963 , 26.6462963 , 26.6462963 , 26.6462963 , 26.6462963 ,\n       26.6462963 , 26.6462963 , 26.6462963 , 26.6462963 , 26.6462963 ,\n       26.6462963 , 26.6462963 , 26.6462963 , 26.6462963 , 26.6462963 ,\n       26.6462963 , 26.6462963 , 26.6462963 , 26.6462963 , 26.6462963 ,\n       26.6462963 , 26.6462963 , 26.6462963 , 26.6462963 , 26.6462963 ,\n       26.6462963 , 26.6462963 , 26.6462963 , 26.6462963 , 26.6462963 ,\n       26.6462963 , 26.6462963 , 26.6462963 , 26.6462963 , 26.6462963 ,\n       26.6462963 , 26.6462963 , 26.6462963 , 26.6462963 , 26.6462963 ,\n       26.6462963 , 26.6462963 , 26.6462963 , 26.6462963 , 26.6462963 ,\n       26.6462963 , 26.6462963 , 26.6462963 , 26.6462963 , 26.6462963 ,\n       26.6462963 , 26.6462963 , 26.6462963 , 26.6462963 , 26.6462963 ,\n       26.6462963 , 26.6462963 , 26.6462963 , 26.6462963 , 26.6462963 ,\n       26.6462963 , 26.6462963 , 26.6462963 , 26.6462963 , 26.6462963 ,\n       26.6462963 , 26.6462963 , 26.6462963 , 26.6462963 , 26.6462963 ,\n       26.6462963 , 26.6462963 , 26.6462963 , 26.6462963 , 26.6462963 ,\n       26.6462963 , 26.6462963 , 26.6462963 , 26.6462963 , 26.6462963 ,\n       26.6462963 , 26.6462963 , 26.6462963 , 26.6462963 , 26.6462963 ,\n       26.6462963 , 26.6462963 , 20.302     , 20.302     , 20.302     ,\n       20.302     , 20.302     , 20.302     , 20.302     , 20.302     ,\n       20.302     , 20.302     , 20.302     , 20.302     , 20.302     ,\n       20.302     , 20.302     , 20.302     , 20.302     , 20.302     ,\n       20.302     , 20.302     , 20.302     , 20.302     , 20.302     ,\n       20.302     , 20.302     , 20.302     , 20.302     , 20.302     ,\n       20.302     , 20.302     , 20.302     , 20.302     , 20.302     ,\n       20.302     , 20.302     , 20.302     , 20.302     , 20.302     ,\n       20.302     , 20.302     , 20.302     , 20.302     , 20.302     ,\n       20.302     , 20.302     , 20.302     , 20.302     , 20.302     ,\n       20.302     , 20.302     , 20.302     , 20.302     , 20.302     ,\n       20.302     , 20.302     , 20.302     , 20.302     , 20.302     ,\n       20.302     , 20.302     , 20.302     , 20.302     , 20.302     ,\n       20.302     , 20.302     , 20.302     , 20.302     , 20.302     ,\n       20.302     , 20.302     , 20.302     , 20.302     , 20.302     ,\n       20.302     , 20.302     , 20.302     , 20.302     , 20.302     ,\n       20.302     , 20.302     , 20.302     , 20.302     , 20.302     ,\n       20.302     , 20.302     , 20.302     , 20.302     , 20.302     ,\n       20.302     , 20.302     , 20.302     , 20.302     , 20.302     ,\n       20.302     , 20.302     , 20.302     , 20.302     , 20.302     ,\n       20.302     , 20.302     , 20.302     , 20.302     , 20.302     ,\n       20.302     , 20.302     , 20.302     , 20.302     , 20.302     ,\n       20.302     , 20.302     , 20.302     , 20.302     , 20.302     ,\n       20.302     , 20.302     , 20.302     , 20.302     , 20.302     ,\n       20.302     , 20.302     , 20.302     , 20.302     , 20.302     ,\n       20.302     , 20.302     , 20.302     , 20.302     , 20.302     ,\n       20.302     , 20.302     , 20.302     , 20.302     , 20.302     ,\n       20.302     , 20.302     , 20.302     , 20.302     , 20.302     ,\n       20.302     , 20.302     , 20.302     , 20.302     , 20.302     ,\n       20.302     , 20.302     , 20.302     , 20.302     , 20.302     ,\n       20.302     , 20.302     , 14.26180556, 14.26180556, 14.26180556,\n       14.26180556, 14.26180556, 14.26180556, 14.26180556, 14.26180556,\n       14.26180556, 14.26180556, 14.26180556, 14.26180556, 14.26180556,\n       14.26180556, 14.26180556, 14.26180556, 14.26180556, 14.26180556,\n       14.26180556, 14.26180556, 14.26180556, 14.26180556, 14.26180556,\n       14.26180556, 14.26180556, 14.26180556, 14.26180556, 14.26180556,\n       14.26180556, 14.26180556, 14.26180556, 14.26180556, 14.26180556,\n       14.26180556, 14.26180556, 14.26180556, 14.26180556, 14.26180556,\n       14.26180556, 14.26180556, 14.26180556, 14.26180556, 14.26180556,\n       14.26180556, 14.26180556, 14.26180556, 14.26180556, 14.26180556,\n       14.26180556, 14.26180556, 14.26180556, 14.26180556, 14.26180556,\n       14.26180556, 14.26180556, 14.26180556, 14.26180556, 14.26180556,\n       14.26180556, 14.26180556, 14.26180556, 14.26180556, 14.26180556,\n       14.26180556, 14.26180556, 14.26180556, 14.26180556, 14.26180556,\n       14.26180556, 14.26180556, 14.26180556, 14.26180556, 14.26180556,\n       14.26180556, 14.26180556, 14.26180556, 14.26180556, 14.26180556,\n       14.26180556, 14.26180556, 14.26180556, 14.26180556, 14.26180556,\n       14.26180556, 14.26180556, 14.26180556, 14.26180556, 14.26180556,\n       14.26180556, 14.26180556, 14.26180556, 14.26180556, 14.26180556,\n       14.26180556, 14.26180556, 14.26180556, 14.26180556, 14.26180556,\n       14.26180556, 14.26180556, 14.26180556, 14.26180556, 14.26180556,\n       14.26180556, 14.26180556, 14.26180556, 14.26180556, 14.26180556,\n       14.26180556, 14.26180556, 14.26180556, 14.26180556, 14.26180556,\n       14.26180556, 14.26180556, 14.26180556, 14.26180556, 14.26180556,\n       14.26180556, 14.26180556, 14.26180556, 14.26180556, 14.26180556,\n       14.26180556, 14.26180556, 14.26180556, 14.26180556, 14.26180556,\n       14.26180556, 14.26180556, 14.26180556, 14.26180556, 14.26180556,\n       14.26180556, 14.26180556, 14.26180556, 14.26180556, 14.26180556,\n       14.26180556, 14.26180556, 14.26180556, 14.26180556, 14.26180556,\n       14.26180556])"
     },
     "execution_count": 18,
     "metadata": {},
     "output_type": "execute_result"
    }
   ],
   "source": [
    "regressor.predict(res[:,0, None])"
   ],
   "metadata": {
    "collapsed": false
   }
  },
  {
   "cell_type": "code",
   "execution_count": 19,
   "outputs": [
    {
     "data": {
      "text/plain": "<matplotlib.collections.PathCollection at 0x7f8b596672b0>"
     },
     "execution_count": 19,
     "metadata": {},
     "output_type": "execute_result"
    },
    {
     "data": {
      "text/plain": "<Figure size 432x288 with 1 Axes>",
      "image/png": "[encoded data removed]"
     },
     "metadata": {
      "needs_background": "light"
     },
     "output_type": "display_data"
    }
   ],
   "source": [
    "plt.scatter(x, y)"
   ],
   "metadata": {
    "collapsed": false
   }
  },
  {
   "cell_type": "code",
   "execution_count": 20,
   "outputs": [
    {
     "data": {
      "text/plain": "[<matplotlib.lines.Line2D at 0x7f8b68d1c370>]"
     },
     "execution_count": 20,
     "metadata": {},
     "output_type": "execute_result"
    },
    {
     "data": {
      "text/plain": "<Figure size 432x288 with 1 Axes>",
      "image/png": "[encoded data removed]"
     },
     "metadata": {
      "needs_background": "light"
     },
     "output_type": "display_data"
    }
   ],
   "source": [
    "plt.plot(res[:,0].reshape(-1, 1), regressor.predict(res[:,0].reshape(-1, 1)).reshape(-1,1))"
   ],
   "metadata": {
    "collapsed": false
   }
  },
  {
   "cell_type": "code",
   "execution_count": 21,
   "outputs": [
    {
     "data": {
      "text/plain": "[<matplotlib.lines.Line2D at 0x7f8b59846d00>]"
     },
     "execution_count": 21,
     "metadata": {},
     "output_type": "execute_result"
    },
    {
     "data": {
      "text/plain": "<Figure size 432x288 with 1 Axes>",
      "image/png": "[encoded data removed]"
     },
     "metadata": {
      "needs_background": "light"
     },
     "output_type": "display_data"
    }
   ],
   "source": [
    "plt.plot(res[:, 0], res[:, 1])"
   ],
   "metadata": {
    "collapsed": false
   }
  },
  {
   "cell_type": "code",
   "execution_count": 22,
   "outputs": [
    {
     "name": "stdout",
     "output_type": "stream",
     "text": [
      "[39.718      39.718      39.718      39.718      39.718      39.718\n",
      " 39.718      39.718      39.718      39.718      39.718      39.718\n",
      " 39.718      39.718      39.718      39.718      39.718      39.718\n",
      " 39.718      39.718      39.718      39.718      39.718      39.718\n",
      " 39.718      39.718      39.718      39.718      39.718      39.718\n",
      " 39.718      39.718      39.718      39.718      39.718      39.718\n",
      " 39.718      39.718      39.718      39.718      39.718      39.718\n",
      " 39.718      39.718      39.718      39.718      39.718      39.718\n",
      " 39.718      39.718      26.6462963  26.6462963  26.6462963  26.6462963\n",
      " 26.6462963  26.6462963  26.6462963  26.6462963  26.6462963  26.6462963\n",
      " 26.6462963  26.6462963  26.6462963  26.6462963  26.6462963  26.6462963\n",
      " 26.6462963  26.6462963  26.6462963  26.6462963  26.6462963  26.6462963\n",
      " 26.6462963  26.6462963  26.6462963  26.6462963  26.6462963  26.6462963\n",
      " 26.6462963  26.6462963  26.6462963  26.6462963  26.6462963  26.6462963\n",
      " 26.6462963  26.6462963  26.6462963  26.6462963  26.6462963  26.6462963\n",
      " 26.6462963  26.6462963  26.6462963  26.6462963  26.6462963  26.6462963\n",
      " 26.6462963  26.6462963  26.6462963  26.6462963  26.6462963  26.6462963\n",
      " 26.6462963  26.6462963  26.6462963  26.6462963  26.6462963  26.6462963\n",
      " 26.6462963  26.6462963  26.6462963  26.6462963  26.6462963  26.6462963\n",
      " 26.6462963  26.6462963  26.6462963  26.6462963  26.6462963  26.6462963\n",
      " 26.6462963  26.6462963  26.6462963  26.6462963  26.6462963  26.6462963\n",
      " 26.6462963  26.6462963  26.6462963  26.6462963  26.6462963  26.6462963\n",
      " 26.6462963  26.6462963  26.6462963  26.6462963  26.6462963  26.6462963\n",
      " 26.6462963  26.6462963  26.6462963  26.6462963  26.6462963  26.6462963\n",
      " 26.6462963  26.6462963  26.6462963  26.6462963  26.6462963  26.6462963\n",
      " 26.6462963  26.6462963  26.6462963  26.6462963  26.6462963  26.6462963\n",
      " 26.6462963  26.6462963  26.6462963  26.6462963  26.6462963  26.6462963\n",
      " 26.6462963  26.6462963  26.6462963  26.6462963  26.6462963  26.6462963\n",
      " 26.6462963  26.6462963  26.6462963  26.6462963  26.6462963  26.6462963\n",
      " 26.6462963  26.6462963  26.6462963  26.6462963  26.6462963  26.6462963\n",
      " 26.6462963  26.6462963  26.6462963  26.6462963  26.6462963  26.6462963\n",
      " 26.6462963  26.6462963  26.6462963  26.6462963  26.6462963  26.6462963\n",
      " 26.6462963  26.6462963  26.6462963  26.6462963  26.6462963  26.6462963\n",
      " 26.6462963  26.6462963  26.6462963  26.6462963  26.6462963  26.6462963\n",
      " 26.6462963  26.6462963  26.6462963  26.6462963  26.6462963  26.6462963\n",
      " 26.6462963  26.6462963  20.302      20.302      20.302      20.302\n",
      " 20.302      20.302      20.302      20.302      20.302      20.302\n",
      " 20.302      20.302      20.302      20.302      20.302      20.302\n",
      " 20.302      20.302      20.302      20.302      20.302      20.302\n",
      " 20.302      20.302      20.302      20.302      20.302      20.302\n",
      " 20.302      20.302      20.302      20.302      20.302      20.302\n",
      " 20.302      20.302      20.302      20.302      20.302      20.302\n",
      " 20.302      20.302      20.302      20.302      20.302      20.302\n",
      " 20.302      20.302      20.302      20.302      20.302      20.302\n",
      " 20.302      20.302      20.302      20.302      20.302      20.302\n",
      " 20.302      20.302      20.302      20.302      20.302      20.302\n",
      " 20.302      20.302      20.302      20.302      20.302      20.302\n",
      " 20.302      20.302      20.302      20.302      20.302      20.302\n",
      " 20.302      20.302      20.302      20.302      20.302      20.302\n",
      " 20.302      20.302      20.302      20.302      20.302      20.302\n",
      " 20.302      20.302      20.302      20.302      20.302      20.302\n",
      " 20.302      20.302      20.302      20.302      20.302      20.302\n",
      " 20.302      20.302      20.302      20.302      20.302      20.302\n",
      " 20.302      20.302      20.302      20.302      20.302      20.302\n",
      " 20.302      20.302      20.302      20.302      20.302      20.302\n",
      " 20.302      20.302      20.302      20.302      20.302      20.302\n",
      " 20.302      20.302      20.302      20.302      20.302      20.302\n",
      " 20.302      20.302      20.302      20.302      20.302      20.302\n",
      " 20.302      20.302      20.302      20.302      20.302      20.302\n",
      " 20.302      20.302      20.302      20.302      20.302      20.302\n",
      " 20.302      20.302      14.26180556 14.26180556 14.26180556 14.26180556\n",
      " 14.26180556 14.26180556 14.26180556 14.26180556 14.26180556 14.26180556\n",
      " 14.26180556 14.26180556 14.26180556 14.26180556 14.26180556 14.26180556\n",
      " 14.26180556 14.26180556 14.26180556 14.26180556 14.26180556 14.26180556\n",
      " 14.26180556 14.26180556 14.26180556 14.26180556 14.26180556 14.26180556\n",
      " 14.26180556 14.26180556 14.26180556 14.26180556 14.26180556 14.26180556\n",
      " 14.26180556 14.26180556 14.26180556 14.26180556 14.26180556 14.26180556\n",
      " 14.26180556 14.26180556 14.26180556 14.26180556 14.26180556 14.26180556\n",
      " 14.26180556 14.26180556 14.26180556 14.26180556 14.26180556 14.26180556\n",
      " 14.26180556 14.26180556 14.26180556 14.26180556 14.26180556 14.26180556\n",
      " 14.26180556 14.26180556 14.26180556 14.26180556 14.26180556 14.26180556\n",
      " 14.26180556 14.26180556 14.26180556 14.26180556 14.26180556 14.26180556\n",
      " 14.26180556 14.26180556 14.26180556 14.26180556 14.26180556 14.26180556\n",
      " 14.26180556 14.26180556 14.26180556 14.26180556 14.26180556 14.26180556\n",
      " 14.26180556 14.26180556 14.26180556 14.26180556 14.26180556 14.26180556\n",
      " 14.26180556 14.26180556 14.26180556 14.26180556 14.26180556 14.26180556\n",
      " 14.26180556 14.26180556 14.26180556 14.26180556 14.26180556 14.26180556\n",
      " 14.26180556 14.26180556 14.26180556 14.26180556 14.26180556 14.26180556\n",
      " 14.26180556 14.26180556 14.26180556 14.26180556 14.26180556 14.26180556\n",
      " 14.26180556 14.26180556 14.26180556 14.26180556 14.26180556 14.26180556\n",
      " 14.26180556 14.26180556 14.26180556 14.26180556 14.26180556 14.26180556\n",
      " 14.26180556 14.26180556 14.26180556 14.26180556 14.26180556 14.26180556\n",
      " 14.26180556 14.26180556 14.26180556 14.26180556 14.26180556 14.26180556\n",
      " 14.26180556 14.26180556 14.26180556 14.26180556 14.26180556 14.26180556\n",
      " 14.26180556 14.26180556]\n"
     ]
    }
   ],
   "source": [
    "print(regressor.predict(res[:, 0, None]))"
   ],
   "metadata": {
    "collapsed": false
   }
  },
  {
   "cell_type": "code",
   "execution_count": 23,
   "outputs": [
    {
     "name": "stdout",
     "output_type": "stream",
     "text": [
      "[39.718      39.718      39.718      39.718      39.718      39.718\n",
      " 39.718      39.718      39.718      39.718      39.718      39.718\n",
      " 39.718      39.718      39.718      39.718      39.718      39.718\n",
      " 39.718      39.718      39.718      39.718      39.718      39.718\n",
      " 39.718      39.718      39.718      39.718      39.718      39.718\n",
      " 39.718      39.718      39.718      39.718      39.718      39.718\n",
      " 39.718      39.718      39.718      39.718      39.718      39.718\n",
      " 39.718      39.718      39.718      39.718      39.718      39.718\n",
      " 39.718      39.718      26.6462963  26.6462963  26.6462963  26.6462963\n",
      " 26.6462963  26.6462963  26.6462963  26.6462963  26.6462963  26.6462963\n",
      " 26.6462963  26.6462963  26.6462963  26.6462963  26.6462963  26.6462963\n",
      " 26.6462963  26.6462963  26.6462963  26.6462963  26.6462963  26.6462963\n",
      " 26.6462963  26.6462963  26.6462963  26.6462963  26.6462963  26.6462963\n",
      " 26.6462963  26.6462963  26.6462963  26.6462963  26.6462963  26.6462963\n",
      " 26.6462963  26.6462963  26.6462963  26.6462963  26.6462963  26.6462963\n",
      " 26.6462963  26.6462963  26.6462963  26.6462963  26.6462963  26.6462963\n",
      " 26.6462963  26.6462963  26.6462963  26.6462963  26.6462963  26.6462963\n",
      " 26.6462963  26.6462963  26.6462963  26.6462963  26.6462963  26.6462963\n",
      " 26.6462963  26.6462963  26.6462963  26.6462963  26.6462963  26.6462963\n",
      " 26.6462963  26.6462963  26.6462963  26.6462963  26.6462963  26.6462963\n",
      " 26.6462963  26.6462963  26.6462963  26.6462963  26.6462963  26.6462963\n",
      " 26.6462963  26.6462963  26.6462963  26.6462963  26.6462963  26.6462963\n",
      " 26.6462963  26.6462963  26.6462963  26.6462963  26.6462963  26.6462963\n",
      " 26.6462963  26.6462963  26.6462963  26.6462963  26.6462963  26.6462963\n",
      " 26.6462963  26.6462963  26.6462963  26.6462963  26.6462963  26.6462963\n",
      " 26.6462963  26.6462963  26.6462963  26.6462963  26.6462963  26.6462963\n",
      " 26.6462963  26.6462963  26.6462963  26.6462963  26.6462963  26.6462963\n",
      " 26.6462963  26.6462963  26.6462963  26.6462963  26.6462963  26.6462963\n",
      " 26.6462963  26.6462963  26.6462963  26.6462963  26.6462963  26.6462963\n",
      " 26.6462963  26.6462963  26.6462963  26.6462963  26.6462963  26.6462963\n",
      " 26.6462963  26.6462963  26.6462963  26.6462963  26.6462963  26.6462963\n",
      " 26.6462963  26.6462963  26.6462963  26.6462963  26.6462963  26.6462963\n",
      " 26.6462963  26.6462963  26.6462963  26.6462963  26.6462963  26.6462963\n",
      " 26.6462963  26.6462963  26.6462963  26.6462963  26.6462963  26.6462963\n",
      " 26.6462963  26.6462963  26.6462963  26.6462963  26.6462963  26.6462963\n",
      " 26.6462963  26.6462963  20.302      20.302      20.302      20.302\n",
      " 20.302      20.302      20.302      20.302      20.302      20.302\n",
      " 20.302      20.302      20.302      20.302      20.302      20.302\n",
      " 20.302      20.302      20.302      20.302      20.302      20.302\n",
      " 20.302      20.302      20.302      20.302      20.302      20.302\n",
      " 20.302      20.302      20.302      20.302      20.302      20.302\n",
      " 20.302      20.302      20.302      20.302      20.302      20.302\n",
      " 20.302      20.302      20.302      20.302      20.302      20.302\n",
      " 20.302      20.302      20.302      20.302      20.302      20.302\n",
      " 20.302      20.302      20.302      20.302      20.302      20.302\n",
      " 20.302      20.302      20.302      20.302      20.302      20.302\n",
      " 20.302      20.302      20.302      20.302      20.302      20.302\n",
      " 20.302      20.302      20.302      20.302      20.302      20.302\n",
      " 20.302      20.302      20.302      20.302      20.302      20.302\n",
      " 20.302      20.302      20.302      20.302      20.302      20.302\n",
      " 20.302      20.302      20.302      20.302      20.302      20.302\n",
      " 20.302      20.302      20.302      20.302      20.302      20.302\n",
      " 20.302      20.302      20.302      20.302      20.302      20.302\n",
      " 20.302      20.302      20.302      20.302      20.302      20.302\n",
      " 20.302      20.302      20.302      20.302      20.302      20.302\n",
      " 20.302      20.302      20.302      20.302      20.302      20.302\n",
      " 20.302      20.302      20.302      20.302      20.302      20.302\n",
      " 20.302      20.302      20.302      20.302      20.302      20.302\n",
      " 20.302      20.302      20.302      20.302      20.302      20.302\n",
      " 20.302      20.302      20.302      20.302      20.302      20.302\n",
      " 20.302      20.302      14.26180556 14.26180556 14.26180556 14.26180556\n",
      " 14.26180556 14.26180556 14.26180556 14.26180556 14.26180556 14.26180556\n",
      " 14.26180556 14.26180556 14.26180556 14.26180556 14.26180556 14.26180556\n",
      " 14.26180556 14.26180556 14.26180556 14.26180556 14.26180556 14.26180556\n",
      " 14.26180556 14.26180556 14.26180556 14.26180556 14.26180556 14.26180556\n",
      " 14.26180556 14.26180556 14.26180556 14.26180556 14.26180556 14.26180556\n",
      " 14.26180556 14.26180556 14.26180556 14.26180556 14.26180556 14.26180556\n",
      " 14.26180556 14.26180556 14.26180556 14.26180556 14.26180556 14.26180556\n",
      " 14.26180556 14.26180556 14.26180556 14.26180556 14.26180556 14.26180556\n",
      " 14.26180556 14.26180556 14.26180556 14.26180556 14.26180556 14.26180556\n",
      " 14.26180556 14.26180556 14.26180556 14.26180556 14.26180556 14.26180556\n",
      " 14.26180556 14.26180556 14.26180556 14.26180556 14.26180556 14.26180556\n",
      " 14.26180556 14.26180556 14.26180556 14.26180556 14.26180556 14.26180556\n",
      " 14.26180556 14.26180556 14.26180556 14.26180556 14.26180556 14.26180556\n",
      " 14.26180556 14.26180556 14.26180556 14.26180556 14.26180556 14.26180556\n",
      " 14.26180556 14.26180556 14.26180556 14.26180556 14.26180556 14.26180556\n",
      " 14.26180556 14.26180556 14.26180556 14.26180556 14.26180556 14.26180556\n",
      " 14.26180556 14.26180556 14.26180556 14.26180556 14.26180556 14.26180556\n",
      " 14.26180556 14.26180556 14.26180556 14.26180556 14.26180556 14.26180556\n",
      " 14.26180556 14.26180556 14.26180556 14.26180556 14.26180556 14.26180556\n",
      " 14.26180556 14.26180556 14.26180556 14.26180556 14.26180556 14.26180556\n",
      " 14.26180556 14.26180556 14.26180556 14.26180556 14.26180556 14.26180556\n",
      " 14.26180556 14.26180556 14.26180556 14.26180556 14.26180556 14.26180556\n",
      " 14.26180556 14.26180556 14.26180556 14.26180556 14.26180556 14.26180556\n",
      " 14.26180556 14.26180556]\n"
     ]
    }
   ],
   "source": [
    "print(res[:, 1])"
   ],
   "metadata": {
    "collapsed": false
   }
  },
  {
   "cell_type": "code",
   "execution_count": 24,
   "outputs": [
    {
     "data": {
      "text/plain": "DecisionTreeRegressor()",
      "text/html": "<style>#sk-container-id-2 {color: black;background-color: white;}#sk-container-id-2 pre{padding: 0;}#sk-container-id-2 div.sk-toggleable {background-color: white;}#sk-container-id-2 label.sk-toggleable__label {cursor: pointer;display: block;width: 100%;margin-bottom: 0;padding: 0.3em;box-sizing: border-box;text-align: center;}#sk-container-id-2 label.sk-toggleable__label-arrow:before {content: \"▸\";float: left;margin-right: 0.25em;color: #696969;}#sk-container-id-2 label.sk-toggleable__label-arrow:hover:before {color: black;}#sk-container-id-2 div.sk-estimator:hover label.sk-toggleable__label-arrow:before {color: black;}#sk-container-id-2 div.sk-toggleable__content {max-height: 0;max-width: 0;overflow: hidden;text-align: left;background-color: #f0f8ff;}#sk-container-id-2 div.sk-toggleable__content pre {margin: 0.2em;color: black;border-radius: 0.25em;background-color: #f0f8ff;}#sk-container-id-2 input.sk-toggleable__control:checked~div.sk-toggleable__content {max-height: 200px;max-width: 100%;overflow: auto;}#sk-container-id-2 input.sk-toggleable__control:checked~label.sk-toggleable__label-arrow:before {content: \"▾\";}#sk-container-id-2 div.sk-estimator input.sk-toggleable__control:checked~label.sk-toggleable__label {background-color: #d4ebff;}#sk-container-id-2 div.sk-label input.sk-toggleable__control:checked~label.sk-toggleable__label {background-color: #d4ebff;}#sk-container-id-2 input.sk-hidden--visually {border: 0;clip: rect(1px 1px 1px 1px);clip: rect(1px, 1px, 1px, 1px);height: 1px;margin: -1px;overflow: hidden;padding: 0;position: absolute;width: 1px;}#sk-container-id-2 div.sk-estimator {font-family: monospace;background-color: #f0f8ff;border: 1px dotted black;border-radius: 0.25em;box-sizing: border-box;margin-bottom: 0.5em;}#sk-container-id-2 div.sk-estimator:hover {background-color: #d4ebff;}#sk-container-id-2 div.sk-parallel-item::after {content: \"\";width: 100%;border-bottom: 1px solid gray;flex-grow: 1;}#sk-container-id-2 div.sk-label:hover label.sk-toggleable__label {background-color: #d4ebff;}#sk-container-id-2 div.sk-serial::before {content: \"\";position: absolute;border-left: 1px solid gray;box-sizing: border-box;top: 0;bottom: 0;left: 50%;z-index: 0;}#sk-container-id-2 div.sk-serial {display: flex;flex-direction: column;align-items: center;background-color: white;padding-right: 0.2em;padding-left: 0.2em;position: relative;}#sk-container-id-2 div.sk-item {position: relative;z-index: 1;}#sk-container-id-2 div.sk-parallel {display: flex;align-items: stretch;justify-content: center;background-color: white;position: relative;}#sk-container-id-2 div.sk-item::before, #sk-container-id-2 div.sk-parallel-item::before {content: \"\";position: absolute;border-left: 1px solid gray;box-sizing: border-box;top: 0;bottom: 0;left: 50%;z-index: -1;}#sk-container-id-2 div.sk-parallel-item {display: flex;flex-direction: column;z-index: 1;position: relative;background-color: white;}#sk-container-id-2 div.sk-parallel-item:first-child::after {align-self: flex-end;width: 50%;}#sk-container-id-2 div.sk-parallel-item:last-child::after {align-self: flex-start;width: 50%;}#sk-container-id-2 div.sk-parallel-item:only-child::after {width: 0;}#sk-container-id-2 div.sk-dashed-wrapped {border: 1px dashed gray;margin: 0 0.4em 0.5em 0.4em;box-sizing: border-box;padding-bottom: 0.4em;background-color: white;}#sk-container-id-2 div.sk-label label {font-family: monospace;font-weight: bold;display: inline-block;line-height: 1.2em;}#sk-container-id-2 div.sk-label-container {text-align: center;}#sk-container-id-2 div.sk-container {/* jupyter's `normalize.less` sets `[hidden] { display: none; }` but bootstrap.min.css set `[hidden] { display: none !important; }` so we also need the `!important` here to be able to override the default hidden behavior on the sphinx rendered scikit-learn.org. See: https://github.com/scikit-learn/scikit-learn/issues/21755 */display: inline-block !important;position: relative;}#sk-container-id-2 div.sk-text-repr-fallback {display: none;}</style><div id=\"sk-container-id-2\" class=\"sk-top-container\"><div class=\"sk-text-repr-fallback\"><pre>DecisionTreeRegressor()</pre><b>In a Jupyter environment, please rerun this cell to show the HTML representation or trust the notebook. <br />On GitHub, the HTML representation is unable to render, please try loading this page with nbviewer.org.</b></div><div class=\"sk-container\" hidden><div class=\"sk-item\"><div class=\"sk-estimator sk-toggleable\"><input class=\"sk-toggleable__control sk-hidden--visually\" id=\"sk-estimator-id-2\" type=\"checkbox\" checked><label for=\"sk-estimator-id-2\" class=\"sk-toggleable__label sk-toggleable__label-arrow\">DecisionTreeRegressor</label><div class=\"sk-toggleable__content\"><pre>DecisionTreeRegressor()</pre></div></div></div></div></div>"
     },
     "execution_count": 24,
     "metadata": {},
     "output_type": "execute_result"
    }
   ],
   "source": [
    "test = DecisionTreeRegressor()\n",
    "test.fit(x, y)"
   ],
   "metadata": {
    "collapsed": false
   }
  },
  {
   "cell_type": "code",
   "execution_count": 25,
   "outputs": [
    {
     "data": {
      "text/plain": "[<matplotlib.lines.Line2D at 0x7f8b5987e1c0>]"
     },
     "execution_count": 25,
     "metadata": {},
     "output_type": "execute_result"
    },
    {
     "data": {
      "text/plain": "<Figure size 432x288 with 1 Axes>",
      "image/png": "[encoded data removed]"
     },
     "metadata": {
      "needs_background": "light"
     },
     "output_type": "display_data"
    }
   ],
   "source": [
    "plt.plot(x, test.predict(x))"
   ],
   "metadata": {
    "collapsed": false
   }
  },
  {
   "cell_type": "code",
   "execution_count": 26,
   "outputs": [
    {
     "name": "stdout",
     "output_type": "stream",
     "text": [
      "[[ 4.98]\n",
      " [ 9.14]\n",
      " [ 4.03]\n",
      " [ 2.94]\n",
      " [ 5.33]\n",
      " [ 5.21]\n",
      " [12.43]\n",
      " [19.15]\n",
      " [29.93]\n",
      " [17.1 ]\n",
      " [20.45]\n",
      " [13.27]\n",
      " [15.71]\n",
      " [ 8.26]\n",
      " [10.26]\n",
      " [ 8.47]\n",
      " [ 6.58]\n",
      " [14.67]\n",
      " [11.69]\n",
      " [11.28]\n",
      " [21.02]\n",
      " [13.83]\n",
      " [18.72]\n",
      " [19.88]\n",
      " [16.3 ]\n",
      " [16.51]\n",
      " [14.81]\n",
      " [17.28]\n",
      " [12.8 ]\n",
      " [11.98]\n",
      " [22.6 ]\n",
      " [13.04]\n",
      " [27.71]\n",
      " [18.35]\n",
      " [20.34]\n",
      " [ 9.68]\n",
      " [11.41]\n",
      " [ 8.77]\n",
      " [10.13]\n",
      " [ 4.32]\n",
      " [ 1.98]\n",
      " [ 4.84]\n",
      " [ 5.81]\n",
      " [ 7.44]\n",
      " [ 9.55]\n",
      " [10.21]\n",
      " [14.15]\n",
      " [18.8 ]\n",
      " [30.81]\n",
      " [16.2 ]\n",
      " [13.45]\n",
      " [ 9.43]\n",
      " [ 5.28]\n",
      " [ 8.43]\n",
      " [14.8 ]\n",
      " [ 4.81]\n",
      " [ 5.77]\n",
      " [ 3.95]\n",
      " [ 6.86]\n",
      " [ 9.22]\n",
      " [13.15]\n",
      " [14.44]\n",
      " [ 6.73]\n",
      " [ 9.5 ]\n",
      " [ 8.05]\n",
      " [ 4.67]\n",
      " [10.24]\n",
      " [ 8.1 ]\n",
      " [13.09]\n",
      " [ 8.79]\n",
      " [ 6.72]\n",
      " [ 9.88]\n",
      " [ 5.52]\n",
      " [ 7.54]\n",
      " [ 6.78]\n",
      " [ 8.94]\n",
      " [11.97]\n",
      " [10.27]\n",
      " [12.34]\n",
      " [ 9.1 ]\n",
      " [ 5.29]\n",
      " [ 7.22]\n",
      " [ 6.72]\n",
      " [ 7.51]\n",
      " [ 9.62]\n",
      " [ 6.53]\n",
      " [12.86]\n",
      " [ 8.44]\n",
      " [ 5.5 ]\n",
      " [ 5.7 ]\n",
      " [ 8.81]\n",
      " [ 8.2 ]\n",
      " [ 8.16]\n",
      " [ 6.21]\n",
      " [10.59]\n",
      " [ 6.65]\n",
      " [11.34]\n",
      " [ 4.21]\n",
      " [ 3.57]\n",
      " [ 6.19]\n",
      " [ 9.42]\n",
      " [ 7.67]\n",
      " [10.63]\n",
      " [13.44]\n",
      " [12.33]\n",
      " [16.47]\n",
      " [18.66]\n",
      " [14.09]\n",
      " [12.27]\n",
      " [15.55]\n",
      " [13.  ]\n",
      " [10.16]\n",
      " [16.21]\n",
      " [17.09]\n",
      " [10.45]\n",
      " [15.76]\n",
      " [12.04]\n",
      " [10.3 ]\n",
      " [15.37]\n",
      " [13.61]\n",
      " [14.37]\n",
      " [14.27]\n",
      " [17.93]\n",
      " [25.41]\n",
      " [17.58]\n",
      " [14.81]\n",
      " [27.26]\n",
      " [17.19]\n",
      " [15.39]\n",
      " [18.34]\n",
      " [12.6 ]\n",
      " [12.26]\n",
      " [11.12]\n",
      " [15.03]\n",
      " [17.31]\n",
      " [16.96]\n",
      " [16.9 ]\n",
      " [14.59]\n",
      " [21.32]\n",
      " [18.46]\n",
      " [24.16]\n",
      " [34.41]\n",
      " [26.82]\n",
      " [26.42]\n",
      " [29.29]\n",
      " [27.8 ]\n",
      " [16.65]\n",
      " [29.53]\n",
      " [28.32]\n",
      " [21.45]\n",
      " [14.1 ]\n",
      " [13.28]\n",
      " [12.12]\n",
      " [15.79]\n",
      " [15.12]\n",
      " [15.02]\n",
      " [16.14]\n",
      " [ 4.59]\n",
      " [ 6.43]\n",
      " [ 7.39]\n",
      " [ 5.5 ]\n",
      " [ 1.73]\n",
      " [ 1.92]\n",
      " [ 3.32]\n",
      " [11.64]\n",
      " [ 9.81]\n",
      " [ 3.7 ]\n",
      " [12.14]\n",
      " [11.1 ]\n",
      " [11.32]\n",
      " [14.43]\n",
      " [12.03]\n",
      " [14.69]\n",
      " [ 9.04]\n",
      " [ 9.64]\n",
      " [ 5.33]\n",
      " [10.11]\n",
      " [ 6.29]\n",
      " [ 6.92]\n",
      " [ 5.04]\n",
      " [ 7.56]\n",
      " [ 9.45]\n",
      " [ 4.82]\n",
      " [ 5.68]\n",
      " [13.98]\n",
      " [13.15]\n",
      " [ 4.45]\n",
      " [ 6.68]\n",
      " [ 4.56]\n",
      " [ 5.39]\n",
      " [ 5.1 ]\n",
      " [ 4.69]\n",
      " [ 2.87]\n",
      " [ 5.03]\n",
      " [ 4.38]\n",
      " [ 2.97]\n",
      " [ 4.08]\n",
      " [ 8.61]\n",
      " [ 6.62]\n",
      " [ 4.56]\n",
      " [ 4.45]\n",
      " [ 7.43]\n",
      " [ 3.11]\n",
      " [ 3.81]\n",
      " [ 2.88]\n",
      " [10.87]\n",
      " [10.97]\n",
      " [18.06]\n",
      " [14.66]\n",
      " [23.09]\n",
      " [17.27]\n",
      " [23.98]\n",
      " [16.03]\n",
      " [ 9.38]\n",
      " [29.55]\n",
      " [ 9.47]\n",
      " [13.51]\n",
      " [ 9.69]\n",
      " [17.92]\n",
      " [10.5 ]\n",
      " [ 9.71]\n",
      " [21.46]\n",
      " [ 9.93]\n",
      " [ 7.6 ]\n",
      " [ 4.14]\n",
      " [ 4.63]\n",
      " [ 3.13]\n",
      " [ 6.36]\n",
      " [ 3.92]\n",
      " [ 3.76]\n",
      " [11.65]\n",
      " [ 5.25]\n",
      " [ 2.47]\n",
      " [ 3.95]\n",
      " [ 8.05]\n",
      " [10.88]\n",
      " [ 9.54]\n",
      " [ 4.73]\n",
      " [ 6.36]\n",
      " [ 7.37]\n",
      " [11.38]\n",
      " [12.4 ]\n",
      " [11.22]\n",
      " [ 5.19]\n",
      " [12.5 ]\n",
      " [18.46]\n",
      " [ 9.16]\n",
      " [10.15]\n",
      " [ 9.52]\n",
      " [ 6.56]\n",
      " [ 5.9 ]\n",
      " [ 3.59]\n",
      " [ 3.53]\n",
      " [ 3.54]\n",
      " [ 6.57]\n",
      " [ 9.25]\n",
      " [ 3.11]\n",
      " [ 5.12]\n",
      " [ 7.79]\n",
      " [ 6.9 ]\n",
      " [ 9.59]\n",
      " [ 7.26]\n",
      " [ 5.91]\n",
      " [11.25]\n",
      " [ 8.1 ]\n",
      " [10.45]\n",
      " [14.79]\n",
      " [ 7.44]\n",
      " [ 3.16]\n",
      " [13.65]\n",
      " [13.  ]\n",
      " [ 6.59]\n",
      " [ 7.73]\n",
      " [ 6.58]\n",
      " [ 3.53]\n",
      " [ 2.98]\n",
      " [ 6.05]\n",
      " [ 4.16]\n",
      " [ 7.19]\n",
      " [ 4.85]\n",
      " [ 3.76]\n",
      " [ 4.59]\n",
      " [ 3.01]\n",
      " [ 3.16]\n",
      " [ 7.85]\n",
      " [ 8.23]\n",
      " [12.93]\n",
      " [ 7.14]\n",
      " [ 7.6 ]\n",
      " [ 9.51]\n",
      " [ 3.33]\n",
      " [ 3.56]\n",
      " [ 4.7 ]\n",
      " [ 8.58]\n",
      " [10.4 ]\n",
      " [ 6.27]\n",
      " [ 7.39]\n",
      " [15.84]\n",
      " [ 4.97]\n",
      " [ 4.74]\n",
      " [ 6.07]\n",
      " [ 9.5 ]\n",
      " [ 8.67]\n",
      " [ 4.86]\n",
      " [ 6.93]\n",
      " [ 8.93]\n",
      " [ 6.47]\n",
      " [ 7.53]\n",
      " [ 4.54]\n",
      " [ 9.97]\n",
      " [12.64]\n",
      " [ 5.98]\n",
      " [11.72]\n",
      " [ 7.9 ]\n",
      " [ 9.28]\n",
      " [11.5 ]\n",
      " [18.33]\n",
      " [15.94]\n",
      " [10.36]\n",
      " [12.73]\n",
      " [ 7.2 ]\n",
      " [ 6.87]\n",
      " [ 7.7 ]\n",
      " [11.74]\n",
      " [ 6.12]\n",
      " [ 5.08]\n",
      " [ 6.15]\n",
      " [12.79]\n",
      " [ 9.97]\n",
      " [ 7.34]\n",
      " [ 9.09]\n",
      " [12.43]\n",
      " [ 7.83]\n",
      " [ 5.68]\n",
      " [ 6.75]\n",
      " [ 8.01]\n",
      " [ 9.8 ]\n",
      " [10.56]\n",
      " [ 8.51]\n",
      " [ 9.74]\n",
      " [ 9.29]\n",
      " [ 5.49]\n",
      " [ 8.65]\n",
      " [ 7.18]\n",
      " [ 4.61]\n",
      " [10.53]\n",
      " [12.67]\n",
      " [ 6.36]\n",
      " [ 5.99]\n",
      " [ 5.89]\n",
      " [ 5.98]\n",
      " [ 5.49]\n",
      " [ 7.79]\n",
      " [ 4.5 ]\n",
      " [ 8.05]\n",
      " [ 5.57]\n",
      " [17.6 ]\n",
      " [13.27]\n",
      " [11.48]\n",
      " [12.67]\n",
      " [ 7.79]\n",
      " [14.19]\n",
      " [10.19]\n",
      " [14.64]\n",
      " [ 5.29]\n",
      " [ 7.12]\n",
      " [14.  ]\n",
      " [13.33]\n",
      " [ 3.26]\n",
      " [ 3.73]\n",
      " [ 2.96]\n",
      " [ 9.53]\n",
      " [ 8.88]\n",
      " [34.77]\n",
      " [37.97]\n",
      " [13.44]\n",
      " [23.24]\n",
      " [21.24]\n",
      " [23.69]\n",
      " [21.78]\n",
      " [17.21]\n",
      " [21.08]\n",
      " [23.6 ]\n",
      " [24.56]\n",
      " [30.63]\n",
      " [30.81]\n",
      " [28.28]\n",
      " [31.99]\n",
      " [30.62]\n",
      " [20.85]\n",
      " [17.11]\n",
      " [18.76]\n",
      " [25.68]\n",
      " [15.17]\n",
      " [16.35]\n",
      " [17.12]\n",
      " [19.37]\n",
      " [19.92]\n",
      " [30.59]\n",
      " [29.97]\n",
      " [26.77]\n",
      " [20.32]\n",
      " [20.31]\n",
      " [19.77]\n",
      " [27.38]\n",
      " [22.98]\n",
      " [23.34]\n",
      " [12.13]\n",
      " [26.4 ]\n",
      " [19.78]\n",
      " [10.11]\n",
      " [21.22]\n",
      " [34.37]\n",
      " [20.08]\n",
      " [36.98]\n",
      " [29.05]\n",
      " [25.79]\n",
      " [26.64]\n",
      " [20.62]\n",
      " [22.74]\n",
      " [15.02]\n",
      " [15.7 ]\n",
      " [14.1 ]\n",
      " [23.29]\n",
      " [17.16]\n",
      " [24.39]\n",
      " [15.69]\n",
      " [14.52]\n",
      " [21.52]\n",
      " [24.08]\n",
      " [17.64]\n",
      " [19.69]\n",
      " [12.03]\n",
      " [16.22]\n",
      " [15.17]\n",
      " [23.27]\n",
      " [18.05]\n",
      " [26.45]\n",
      " [34.02]\n",
      " [22.88]\n",
      " [22.11]\n",
      " [19.52]\n",
      " [16.59]\n",
      " [18.85]\n",
      " [23.79]\n",
      " [23.98]\n",
      " [17.79]\n",
      " [16.44]\n",
      " [18.13]\n",
      " [19.31]\n",
      " [17.44]\n",
      " [17.73]\n",
      " [17.27]\n",
      " [16.74]\n",
      " [18.71]\n",
      " [18.13]\n",
      " [19.01]\n",
      " [16.94]\n",
      " [16.23]\n",
      " [14.7 ]\n",
      " [16.42]\n",
      " [14.65]\n",
      " [13.99]\n",
      " [10.29]\n",
      " [13.22]\n",
      " [14.13]\n",
      " [17.15]\n",
      " [21.32]\n",
      " [18.13]\n",
      " [14.76]\n",
      " [16.29]\n",
      " [12.87]\n",
      " [14.36]\n",
      " [11.66]\n",
      " [18.14]\n",
      " [24.1 ]\n",
      " [18.68]\n",
      " [24.91]\n",
      " [18.03]\n",
      " [13.11]\n",
      " [10.74]\n",
      " [ 7.74]\n",
      " [ 7.01]\n",
      " [10.42]\n",
      " [13.34]\n",
      " [10.58]\n",
      " [14.98]\n",
      " [11.45]\n",
      " [18.06]\n",
      " [23.97]\n",
      " [29.68]\n",
      " [18.07]\n",
      " [13.35]\n",
      " [12.01]\n",
      " [13.59]\n",
      " [17.6 ]\n",
      " [21.14]\n",
      " [14.1 ]\n",
      " [12.92]\n",
      " [15.1 ]\n",
      " [14.33]\n",
      " [ 9.67]\n",
      " [ 9.08]\n",
      " [ 5.64]\n",
      " [ 6.48]\n",
      " [ 7.88]]\n"
     ]
    }
   ],
   "source": [
    "print(x)"
   ],
   "metadata": {
    "collapsed": false
   }
  },
  {
   "cell_type": "code",
   "execution_count": 27,
   "outputs": [
    {
     "data": {
      "text/plain": "(506, 1)"
     },
     "execution_count": 27,
     "metadata": {},
     "output_type": "execute_result"
    }
   ],
   "source": [
    "x.shape"
   ],
   "metadata": {
    "collapsed": false
   }
  },
  {
   "cell_type": "code",
   "execution_count": 28,
   "outputs": [
    {
     "data": {
      "text/plain": "(506, 2)"
     },
     "execution_count": 28,
     "metadata": {},
     "output_type": "execute_result"
    }
   ],
   "source": [
    "res.shape"
   ],
   "metadata": {
    "collapsed": false
   }
  },
  {
   "cell_type": "code",
   "execution_count": 29,
   "outputs": [
    {
     "data": {
      "text/plain": "array([[ 4.03],\n       [ 2.94],\n       [ 4.32],\n       [ 1.98],\n       [ 3.95],\n       [ 4.21],\n       [ 3.57],\n       [ 4.59],\n       [ 1.73],\n       [ 1.92],\n       [ 3.32],\n       [ 3.7 ],\n       [ 4.45],\n       [ 4.56],\n       [ 2.87],\n       [ 4.38],\n       [ 2.97],\n       [ 4.08],\n       [ 4.56],\n       [ 4.45],\n       [ 3.11],\n       [ 3.81],\n       [ 2.88],\n       [ 4.14],\n       [ 4.63],\n       [ 3.13],\n       [ 3.92],\n       [ 3.76],\n       [ 2.47],\n       [ 3.95],\n       [ 3.59],\n       [ 3.53],\n       [ 3.54],\n       [ 3.11],\n       [ 3.16],\n       [ 3.53],\n       [ 2.98],\n       [ 4.16],\n       [ 3.76],\n       [ 4.59],\n       [ 3.01],\n       [ 3.16],\n       [ 3.33],\n       [ 3.56],\n       [ 4.54],\n       [ 4.61],\n       [ 4.5 ],\n       [ 3.26],\n       [ 3.73],\n       [ 2.96],\n       [ 4.98],\n       [ 9.14],\n       [ 5.33],\n       [ 5.21],\n       [ 8.26],\n       [ 8.47],\n       [ 6.58],\n       [ 9.68],\n       [ 8.77],\n       [ 4.84],\n       [ 5.81],\n       [ 7.44],\n       [ 9.55],\n       [ 9.43],\n       [ 5.28],\n       [ 8.43],\n       [ 4.81],\n       [ 5.77],\n       [ 6.86],\n       [ 9.22],\n       [ 6.73],\n       [ 9.5 ],\n       [ 8.05],\n       [ 4.67],\n       [ 8.1 ],\n       [ 8.79],\n       [ 6.72],\n       [ 5.52],\n       [ 7.54],\n       [ 6.78],\n       [ 8.94],\n       [ 9.1 ],\n       [ 5.29],\n       [ 7.22],\n       [ 6.72],\n       [ 7.51],\n       [ 9.62],\n       [ 6.53],\n       [ 8.44],\n       [ 5.5 ],\n       [ 5.7 ],\n       [ 8.81],\n       [ 8.2 ],\n       [ 8.16],\n       [ 6.21],\n       [ 6.65],\n       [ 6.19],\n       [ 9.42],\n       [ 7.67],\n       [ 6.43],\n       [ 7.39],\n       [ 5.5 ],\n       [ 9.04],\n       [ 9.64],\n       [ 5.33],\n       [ 6.29],\n       [ 6.92],\n       [ 5.04],\n       [ 7.56],\n       [ 9.45],\n       [ 4.82],\n       [ 5.68],\n       [ 6.68],\n       [ 5.39],\n       [ 5.1 ],\n       [ 4.69],\n       [ 5.03],\n       [ 8.61],\n       [ 6.62],\n       [ 7.43],\n       [ 9.38],\n       [ 9.47],\n       [ 9.69],\n       [ 9.71],\n       [ 7.6 ],\n       [ 6.36],\n       [ 5.25],\n       [ 8.05],\n       [ 9.54],\n       [ 4.73],\n       [ 6.36],\n       [ 7.37],\n       [ 5.19],\n       [ 9.16],\n       [ 9.52],\n       [ 6.56],\n       [ 5.9 ],\n       [ 6.57],\n       [ 9.25],\n       [ 5.12],\n       [ 7.79],\n       [ 6.9 ],\n       [ 9.59],\n       [ 7.26],\n       [ 5.91],\n       [ 8.1 ],\n       [ 7.44],\n       [ 6.59],\n       [ 7.73],\n       [ 6.58],\n       [ 6.05],\n       [ 7.19],\n       [ 4.85],\n       [ 7.85],\n       [ 8.23],\n       [ 7.14],\n       [ 7.6 ],\n       [ 9.51],\n       [ 4.7 ],\n       [ 8.58],\n       [ 6.27],\n       [ 7.39],\n       [ 4.97],\n       [ 4.74],\n       [ 6.07],\n       [ 9.5 ],\n       [ 8.67],\n       [ 4.86],\n       [ 6.93],\n       [ 8.93],\n       [ 6.47],\n       [ 7.53],\n       [ 5.98],\n       [ 7.9 ],\n       [ 9.28],\n       [ 7.2 ],\n       [ 6.87],\n       [ 7.7 ],\n       [ 6.12],\n       [ 5.08],\n       [ 6.15],\n       [ 7.34],\n       [ 9.09],\n       [ 7.83],\n       [ 5.68],\n       [ 6.75],\n       [ 8.01],\n       [ 8.51],\n       [ 9.29],\n       [ 5.49],\n       [ 8.65],\n       [ 7.18],\n       [ 6.36],\n       [ 5.99],\n       [ 5.89],\n       [ 5.98],\n       [ 5.49],\n       [ 7.79],\n       [ 8.05],\n       [ 5.57],\n       [ 7.79],\n       [ 5.29],\n       [ 7.12],\n       [ 9.53],\n       [ 8.88],\n       [ 7.74],\n       [ 7.01],\n       [ 9.67],\n       [ 9.08],\n       [ 5.64],\n       [ 6.48],\n       [ 7.88],\n       [12.43],\n       [13.27],\n       [15.71],\n       [10.26],\n       [14.67],\n       [11.69],\n       [11.28],\n       [13.83],\n       [14.81],\n       [12.8 ],\n       [11.98],\n       [13.04],\n       [11.41],\n       [10.13],\n       [10.21],\n       [14.15],\n       [13.45],\n       [14.8 ],\n       [13.15],\n       [14.44],\n       [10.24],\n       [13.09],\n       [ 9.88],\n       [11.97],\n       [10.27],\n       [12.34],\n       [12.86],\n       [10.59],\n       [11.34],\n       [10.63],\n       [13.44],\n       [12.33],\n       [14.09],\n       [12.27],\n       [15.55],\n       [13.  ],\n       [10.16],\n       [10.45],\n       [15.76],\n       [12.04],\n       [10.3 ],\n       [15.37],\n       [13.61],\n       [14.37],\n       [14.27],\n       [14.81],\n       [15.39],\n       [12.6 ],\n       [12.26],\n       [11.12],\n       [15.03],\n       [14.59],\n       [14.1 ],\n       [13.28],\n       [12.12],\n       [15.79],\n       [15.12],\n       [15.02],\n       [11.64],\n       [ 9.81],\n       [12.14],\n       [11.1 ],\n       [11.32],\n       [14.43],\n       [12.03],\n       [14.69],\n       [10.11],\n       [13.98],\n       [13.15],\n       [10.87],\n       [10.97],\n       [14.66],\n       [16.03],\n       [13.51],\n       [10.5 ],\n       [ 9.93],\n       [11.65],\n       [10.88],\n       [11.38],\n       [12.4 ],\n       [11.22],\n       [12.5 ],\n       [10.15],\n       [11.25],\n       [10.45],\n       [14.79],\n       [13.65],\n       [13.  ],\n       [12.93],\n       [10.4 ],\n       [15.84],\n       [ 9.97],\n       [12.64],\n       [11.72],\n       [11.5 ],\n       [15.94],\n       [10.36],\n       [12.73],\n       [11.74],\n       [12.79],\n       [ 9.97],\n       [12.43],\n       [ 9.8 ],\n       [10.56],\n       [ 9.74],\n       [10.53],\n       [12.67],\n       [13.27],\n       [11.48],\n       [12.67],\n       [14.19],\n       [10.19],\n       [14.64],\n       [14.  ],\n       [13.33],\n       [13.44],\n       [15.17],\n       [12.13],\n       [10.11],\n       [15.02],\n       [15.7 ],\n       [14.1 ],\n       [15.69],\n       [14.52],\n       [12.03],\n       [15.17],\n       [14.7 ],\n       [14.65],\n       [13.99],\n       [10.29],\n       [13.22],\n       [14.13],\n       [14.76],\n       [12.87],\n       [14.36],\n       [11.66],\n       [13.11],\n       [10.74],\n       [10.42],\n       [13.34],\n       [10.58],\n       [14.98],\n       [11.45],\n       [13.35],\n       [12.01],\n       [13.59],\n       [14.1 ],\n       [12.92],\n       [15.1 ],\n       [14.33],\n       [19.15],\n       [29.93],\n       [17.1 ],\n       [20.45],\n       [21.02],\n       [18.72],\n       [19.88],\n       [16.3 ],\n       [16.51],\n       [17.28],\n       [22.6 ],\n       [27.71],\n       [18.35],\n       [20.34],\n       [18.8 ],\n       [30.81],\n       [16.2 ],\n       [16.47],\n       [18.66],\n       [16.21],\n       [17.09],\n       [17.93],\n       [25.41],\n       [17.58],\n       [27.26],\n       [17.19],\n       [18.34],\n       [17.31],\n       [16.96],\n       [16.9 ],\n       [21.32],\n       [18.46],\n       [24.16],\n       [34.41],\n       [26.82],\n       [26.42],\n       [29.29],\n       [27.8 ],\n       [16.65],\n       [29.53],\n       [28.32],\n       [21.45],\n       [16.14],\n       [18.06],\n       [23.09],\n       [17.27],\n       [23.98],\n       [29.55],\n       [17.92],\n       [21.46],\n       [18.46],\n       [18.33],\n       [17.6 ],\n       [34.77],\n       [37.97],\n       [23.24],\n       [21.24],\n       [23.69],\n       [21.78],\n       [17.21],\n       [21.08],\n       [23.6 ],\n       [24.56],\n       [30.63],\n       [30.81],\n       [28.28],\n       [31.99],\n       [30.62],\n       [20.85],\n       [17.11],\n       [18.76],\n       [25.68],\n       [16.35],\n       [17.12],\n       [19.37],\n       [19.92],\n       [30.59],\n       [29.97],\n       [26.77],\n       [20.32],\n       [20.31],\n       [19.77],\n       [27.38],\n       [22.98],\n       [23.34],\n       [26.4 ],\n       [19.78],\n       [21.22],\n       [34.37],\n       [20.08],\n       [36.98],\n       [29.05],\n       [25.79],\n       [26.64],\n       [20.62],\n       [22.74],\n       [23.29],\n       [17.16],\n       [24.39],\n       [21.52],\n       [24.08],\n       [17.64],\n       [19.69],\n       [16.22],\n       [23.27],\n       [18.05],\n       [26.45],\n       [34.02],\n       [22.88],\n       [22.11],\n       [19.52],\n       [16.59],\n       [18.85],\n       [23.79],\n       [23.98],\n       [17.79],\n       [16.44],\n       [18.13],\n       [19.31],\n       [17.44],\n       [17.73],\n       [17.27],\n       [16.74],\n       [18.71],\n       [18.13],\n       [19.01],\n       [16.94],\n       [16.23],\n       [16.42],\n       [17.15],\n       [21.32],\n       [18.13],\n       [16.29],\n       [18.14],\n       [24.1 ],\n       [18.68],\n       [24.91],\n       [18.03],\n       [18.06],\n       [23.97],\n       [29.68],\n       [18.07],\n       [17.6 ],\n       [21.14]])"
     },
     "execution_count": 29,
     "metadata": {},
     "output_type": "execute_result"
    }
   ],
   "source": [
    "res[:, 0].reshape(-1, 1)"
   ],
   "metadata": {
    "collapsed": false
   }
  },
  {
   "cell_type": "code",
   "execution_count": 30,
   "outputs": [
    {
     "name": "stdout",
     "output_type": "stream",
     "text": [
      "[[ 4.03       39.718     ]\n",
      " [ 2.94       39.718     ]\n",
      " [ 4.32       39.718     ]\n",
      " ...\n",
      " [18.07       14.26180556]\n",
      " [17.6        14.26180556]\n",
      " [21.14       14.26180556]]\n"
     ]
    }
   ],
   "source": [
    "print(res)"
   ],
   "metadata": {
    "collapsed": false
   }
  },
  {
   "cell_type": "code",
   "execution_count": 31,
   "outputs": [
    {
     "data": {
      "text/plain": "[<matplotlib.lines.Line2D at 0x7f8b489e5700>]"
     },
     "execution_count": 31,
     "metadata": {},
     "output_type": "execute_result"
    },
    {
     "data": {
      "text/plain": "<Figure size 432x288 with 1 Axes>",
      "image/png": "[encoded data removed]"
     },
     "metadata": {
      "needs_background": "light"
     },
     "output_type": "display_data"
    }
   ],
   "source": [
    "temp = res[:, 0].reshape(-1, 1)\n",
    "plt.plot(temp, test.predict(temp))"
   ],
   "metadata": {
    "collapsed": false
   }
  },
  {
   "cell_type": "code",
   "execution_count": 32,
   "outputs": [
    {
     "data": {
      "text/plain": "<Figure size 432x288 with 1 Axes>",
      "image/png": "[encoded data removed]"
     },
     "metadata": {
      "needs_background": "light"
     },
     "output_type": "display_data"
    }
   ],
   "source": [
    "test = DecisionTreeRegressor(max_depth=4)\n",
    "test.fit(x, y)\n",
    "\n",
    "plt.plot(x, test.predict(x))\n",
    "plt.show()"
   ],
   "metadata": {
    "collapsed": false
   }
  },
  {
   "cell_type": "code",
   "execution_count": 33,
   "outputs": [
    {
     "data": {
      "text/plain": "<Figure size 432x288 with 1 Axes>",
      "image/png": "[encoded data removed]"
     },
     "metadata": {
      "needs_background": "light"
     },
     "output_type": "display_data"
    }
   ],
   "source": [
    "plt.scatter(x, y)\n",
    "plt.plot(res[:, 0], res[:, 1])\n",
    "plt.show()"
   ],
   "metadata": {
    "collapsed": false
   }
  },
  {
   "cell_type": "markdown",
   "source": [
    "# Question 4"
   ],
   "metadata": {
    "collapsed": false
   }
  },
  {
   "cell_type": "code",
   "execution_count": 34,
   "outputs": [],
   "source": [
    "from sklearn.datasets import load_iris"
   ],
   "metadata": {
    "collapsed": false
   }
  },
  {
   "cell_type": "code",
   "execution_count": 35,
   "outputs": [
    {
     "name": "stdout",
     "output_type": "stream",
     "text": [
      "dict_keys(['data', 'target', 'frame', 'target_names', 'DESCR', 'feature_names', 'filename', 'data_module'])\n"
     ]
    },
    {
     "data": {
      "text/plain": "array([0, 0, 0, 0, 0, 0, 0, 0, 0, 0, 0, 0, 0, 0, 0, 0, 0, 0, 0, 0, 0, 0,\n       0, 0, 0, 0, 0, 0, 0, 0, 0, 0, 0, 0, 0, 0, 0, 0, 0, 0, 0, 0, 0, 0,\n       0, 0, 0, 0, 0, 0, 1, 1, 1, 1, 1, 1, 1, 1, 1, 1, 1, 1, 1, 1, 1, 1,\n       1, 1, 1, 1, 1, 1, 1, 1, 1, 1, 1, 1, 1, 1, 1, 1, 1, 1, 1, 1, 1, 1,\n       1, 1, 1, 1, 1, 1, 1, 1, 1, 1, 1, 1, 2, 2, 2, 2, 2, 2, 2, 2, 2, 2,\n       2, 2, 2, 2, 2, 2, 2, 2, 2, 2, 2, 2, 2, 2, 2, 2, 2, 2, 2, 2, 2, 2,\n       2, 2, 2, 2, 2, 2, 2, 2, 2, 2, 2, 2, 2, 2, 2, 2, 2, 2])"
     },
     "execution_count": 35,
     "metadata": {},
     "output_type": "execute_result"
    }
   ],
   "source": [
    "iris = load_iris()\n",
    "print(iris.keys())\n",
    "iris.target\n",
    "\n"
   ],
   "metadata": {
    "collapsed": false
   }
  },
  {
   "cell_type": "code",
   "execution_count": 47,
   "outputs": [],
   "source": [
    "from sklearn.model_selection import train_test_split\n",
    "from sklearn.tree import plot_tree"
   ],
   "metadata": {
    "collapsed": false
   }
  },
  {
   "cell_type": "code",
   "execution_count": 41,
   "outputs": [],
   "source": [
    "x_train, x_test, y_train, y_test = train_test_split(iris.data, iris.target, test_size=0.2, random_state=0)"
   ],
   "metadata": {
    "collapsed": false
   }
  },
  {
   "cell_type": "code",
   "execution_count": 44,
   "outputs": [
    {
     "name": "stdout",
     "output_type": "stream",
     "text": [
      "0.9916666666666667\n",
      "1.0\n"
     ]
    }
   ],
   "source": [
    "classifier = DecisionTreeClassifier(criterion='entropy', max_depth=4)\n",
    "classifier.fit(x_train, y_train)\n",
    "y_pred = classifier.predict(x_test)\n",
    "print(classifier.score(x_train, y_train))\n",
    "print(classifier.score(x_test, y_test))\n"
   ],
   "metadata": {
    "collapsed": false
   }
  },
  {
   "cell_type": "code",
   "execution_count": 57,
   "outputs": [
    {
     "name": "stdout",
     "output_type": "stream",
     "text": [
      "[Text(0.5, 0.9, 'x[3] <= 0.8\\nentropy = 1.581\\nsamples = 120\\nvalue = [39, 37, 44]'), Text(0.4230769230769231, 0.7, 'entropy = 0.0\\nsamples = 39\\nvalue = [39, 0, 0]'), Text(0.5769230769230769, 0.7, 'x[3] <= 1.75\\nentropy = 0.995\\nsamples = 81\\nvalue = [0, 37, 44]'), Text(0.3076923076923077, 0.5, 'x[2] <= 4.95\\nentropy = 0.469\\nsamples = 40\\nvalue = [0, 36, 4]'), Text(0.15384615384615385, 0.3, 'x[3] <= 1.65\\nentropy = 0.187\\nsamples = 35\\nvalue = [0, 34, 1]'), Text(0.07692307692307693, 0.1, 'entropy = 0.0\\nsamples = 34\\nvalue = [0, 34, 0]'), Text(0.23076923076923078, 0.1, 'entropy = 0.0\\nsamples = 1\\nvalue = [0, 0, 1]'), Text(0.46153846153846156, 0.3, 'x[3] <= 1.55\\nentropy = 0.971\\nsamples = 5\\nvalue = [0, 2, 3]'), Text(0.38461538461538464, 0.1, 'entropy = 0.0\\nsamples = 2\\nvalue = [0, 0, 2]'), Text(0.5384615384615384, 0.1, 'entropy = 0.918\\nsamples = 3\\nvalue = [0, 2, 1]'), Text(0.8461538461538461, 0.5, 'x[2] <= 4.85\\nentropy = 0.165\\nsamples = 41\\nvalue = [0, 1, 40]'), Text(0.7692307692307693, 0.3, 'x[1] <= 3.1\\nentropy = 1.0\\nsamples = 2\\nvalue = [0, 1, 1]'), Text(0.6923076923076923, 0.1, 'entropy = 0.0\\nsamples = 1\\nvalue = [0, 0, 1]'), Text(0.8461538461538461, 0.1, 'entropy = 0.0\\nsamples = 1\\nvalue = [0, 1, 0]'), Text(0.9230769230769231, 0.3, 'entropy = 0.0\\nsamples = 39\\nvalue = [0, 0, 39]')]\n"
     ]
    },
    {
     "data": {
      "text/plain": "<Figure size 432x288 with 1 Axes>",
      "image/png": "[encoded data removed]"
     },
     "metadata": {
      "needs_background": "light"
     },
     "output_type": "display_data"
    }
   ],
   "source": [
    "gg = plot_tree(classifier)\n",
    "# plt.figure(gg, figsize=(19, 12), dpi=300)\n",
    "# plt.show()\n",
    "print(gg)"
   ],
   "metadata": {
    "collapsed": false
   }
  },
  {
   "cell_type": "code",
   "execution_count": null,
   "outputs": [],
   "source": [],
   "metadata": {
    "collapsed": false,
    "pycharm": {
     "is_executing": true
    }
   }
  },
  {
   "cell_type": "code",
   "execution_count": 54,
   "outputs": [],
   "source": [],
   "metadata": {
    "collapsed": false
   }
  }
 ],
 "metadata": {
  "kernelspec": {
   "display_name": "Python 3 (ipykernel)",
   "language": "python",
   "name": "python3"
  },
  "language_info": {
   "codemirror_mode": {
    "name": "ipython",
    "version": 3
   },
   "file_extension": ".py",
   "mimetype": "text/x-python",
   "name": "python",
   "nbconvert_exporter": "python",
   "pygments_lexer": "ipython3",
   "version": "3.9.6"
  },
  "widgets": {
   "application/vnd.jupyter.widget-state+json": {
    "state": {},
    "version_major": 2,
    "version_minor": 0
   }
  }
 },
 "nbformat": 4,
 "nbformat_minor": 5
}
