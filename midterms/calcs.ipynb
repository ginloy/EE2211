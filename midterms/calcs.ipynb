{
 "cells": [
  {
   "cell_type": "code",
   "execution_count": 4,
   "metadata": {
    "collapsed": true
   },
   "outputs": [],
   "source": [
    "import numpy as np\n",
    "from matplotlib import pyplot as plt\n",
    "from custom.models import *\n",
    "from functions import *\n",
    "import sklearn\n",
    "from sympy import *"
   ]
  },
  {
   "cell_type": "code",
   "execution_count": 5,
   "outputs": [
    {
     "name": "stdout",
     "output_type": "stream",
     "text": [
      "0.375\n"
     ]
    }
   ],
   "source": [
    "total = 0\n",
    "full_rank = 0\n",
    "for a in range(2):\n",
    "    for b in range(2):\n",
    "        for c in range(2):\n",
    "            for d in range(2):\n",
    "                m = Matrix(2, 2, [a, b, c, d])\n",
    "                total += 1\n",
    "                if m.rank() == 2:\n",
    "                    full_rank += 1\n",
    "\n",
    "print(full_rank / total)"
   ],
   "metadata": {
    "collapsed": false
   }
  },
  {
   "cell_type": "code",
   "execution_count": 13,
   "outputs": [
    {
     "ename": "NonSquareMatrixError",
     "evalue": "",
     "output_type": "error",
     "traceback": [
      "\u001B[0;31m---------------------------------------------------------------------------\u001B[0m",
      "\u001B[0;31mNonSquareMatrixError\u001B[0m                      Traceback (most recent call last)",
      "Cell \u001B[0;32mIn[13], line 4\u001B[0m\n\u001B[1;32m      2\u001B[0m m \u001B[38;5;241m=\u001B[39m Matrix(\u001B[38;5;241m3\u001B[39m, \u001B[38;5;241m4\u001B[39m, [t, \u001B[38;5;241m3\u001B[39m, \u001B[38;5;241m-\u001B[39m\u001B[38;5;241m1\u001B[39m, \u001B[38;5;241m1\u001B[39m, \u001B[38;5;241m1\u001B[39m, \u001B[38;5;241m2\u001B[39m, \u001B[38;5;241m1\u001B[39m, \u001B[38;5;241m2\u001B[39m, \u001B[38;5;241m-\u001B[39mt, \u001B[38;5;241m1\u001B[39m ,\u001B[38;5;241m2\u001B[39m, \u001B[38;5;241m-\u001B[39m\u001B[38;5;241m1\u001B[39m])\n\u001B[1;32m      3\u001B[0m x \u001B[38;5;241m=\u001B[39m Matrix(\u001B[38;5;241m3\u001B[39m, \u001B[38;5;241m3\u001B[39m, [t, \u001B[38;5;241m3\u001B[39m, \u001B[38;5;241m-\u001B[39m\u001B[38;5;241m1\u001B[39m, \u001B[38;5;241m1\u001B[39m, \u001B[38;5;241m2\u001B[39m, \u001B[38;5;241m1\u001B[39m, \u001B[38;5;241m-\u001B[39mt, \u001B[38;5;241m1\u001B[39m, \u001B[38;5;241m2\u001B[39m])\n\u001B[0;32m----> 4\u001B[0m \u001B[43mm\u001B[49m\u001B[38;5;241;43m.\u001B[39;49m\u001B[43mdet\u001B[49m\u001B[43m(\u001B[49m\u001B[43m)\u001B[49m\n",
      "File \u001B[0;32m~/.conda/envs/EE2211/lib/python3.10/site-packages/sympy/matrices/matrices.py:130\u001B[0m, in \u001B[0;36mMatrixDeterminant.det\u001B[0;34m(self, method, iszerofunc)\u001B[0m\n\u001B[1;32m    129\u001B[0m \u001B[38;5;28;01mdef\u001B[39;00m \u001B[38;5;21mdet\u001B[39m(\u001B[38;5;28mself\u001B[39m, method\u001B[38;5;241m=\u001B[39m\u001B[38;5;124m\"\u001B[39m\u001B[38;5;124mbareiss\u001B[39m\u001B[38;5;124m\"\u001B[39m, iszerofunc\u001B[38;5;241m=\u001B[39m\u001B[38;5;28;01mNone\u001B[39;00m):\n\u001B[0;32m--> 130\u001B[0m     \u001B[38;5;28;01mreturn\u001B[39;00m \u001B[43m_det\u001B[49m\u001B[43m(\u001B[49m\u001B[38;5;28;43mself\u001B[39;49m\u001B[43m,\u001B[49m\u001B[43m \u001B[49m\u001B[43mmethod\u001B[49m\u001B[38;5;241;43m=\u001B[39;49m\u001B[43mmethod\u001B[49m\u001B[43m,\u001B[49m\u001B[43m \u001B[49m\u001B[43miszerofunc\u001B[49m\u001B[38;5;241;43m=\u001B[39;49m\u001B[43miszerofunc\u001B[49m\u001B[43m)\u001B[49m\n",
      "File \u001B[0;32m~/.conda/envs/EE2211/lib/python3.10/site-packages/sympy/matrices/determinant.py:662\u001B[0m, in \u001B[0;36m_det\u001B[0;34m(M, method, iszerofunc)\u001B[0m\n\u001B[1;32m    659\u001B[0m         \u001B[38;5;28;01mreturn\u001B[39;00m _get_intermediate_simp(_dotprodsimp)(m)\n\u001B[1;32m    661\u001B[0m dets \u001B[38;5;241m=\u001B[39m []\n\u001B[0;32m--> 662\u001B[0m \u001B[38;5;28;01mfor\u001B[39;00m b \u001B[38;5;129;01min\u001B[39;00m \u001B[43mM\u001B[49m\u001B[38;5;241;43m.\u001B[39;49m\u001B[43mstrongly_connected_components\u001B[49m\u001B[43m(\u001B[49m\u001B[43m)\u001B[49m:\n\u001B[1;32m    663\u001B[0m     \u001B[38;5;28;01mif\u001B[39;00m method \u001B[38;5;241m==\u001B[39m \u001B[38;5;124m\"\u001B[39m\u001B[38;5;124mdomain-ge\u001B[39m\u001B[38;5;124m\"\u001B[39m: \u001B[38;5;66;03m# uses DomainMatrix to evalute determinant\u001B[39;00m\n\u001B[1;32m    664\u001B[0m         det \u001B[38;5;241m=\u001B[39m _det_DOM(M[b, b])\n",
      "File \u001B[0;32m~/.conda/envs/EE2211/lib/python3.10/site-packages/sympy/matrices/matrices.py:2229\u001B[0m, in \u001B[0;36mMatrixBase.strongly_connected_components\u001B[0;34m(self)\u001B[0m\n\u001B[1;32m   2228\u001B[0m \u001B[38;5;28;01mdef\u001B[39;00m \u001B[38;5;21mstrongly_connected_components\u001B[39m(\u001B[38;5;28mself\u001B[39m):\n\u001B[0;32m-> 2229\u001B[0m     \u001B[38;5;28;01mreturn\u001B[39;00m \u001B[43m_strongly_connected_components\u001B[49m\u001B[43m(\u001B[49m\u001B[38;5;28;43mself\u001B[39;49m\u001B[43m)\u001B[49m\n",
      "File \u001B[0;32m~/.conda/envs/EE2211/lib/python3.10/site-packages/sympy/matrices/graph.py:65\u001B[0m, in \u001B[0;36m_strongly_connected_components\u001B[0;34m(M)\u001B[0m\n\u001B[1;32m     44\u001B[0m \u001B[38;5;124;03m\"\"\"Returns the list of strongly connected vertices of the graph when\u001B[39;00m\n\u001B[1;32m     45\u001B[0m \u001B[38;5;124;03ma square matrix is viewed as a weighted graph.\u001B[39;00m\n\u001B[1;32m     46\u001B[0m \n\u001B[0;32m   (...)\u001B[0m\n\u001B[1;32m     62\u001B[0m \u001B[38;5;124;03m[[0, 4, 6], [2, 3, 7], [1, 5, 8]]\u001B[39;00m\n\u001B[1;32m     63\u001B[0m \u001B[38;5;124;03m\"\"\"\u001B[39;00m\n\u001B[1;32m     64\u001B[0m \u001B[38;5;28;01mif\u001B[39;00m \u001B[38;5;129;01mnot\u001B[39;00m M\u001B[38;5;241m.\u001B[39mis_square:\n\u001B[0;32m---> 65\u001B[0m     \u001B[38;5;28;01mraise\u001B[39;00m NonSquareMatrixError\n\u001B[1;32m     67\u001B[0m \u001B[38;5;66;03m# RepMatrix uses the more efficient DomainMatrix.scc() method\u001B[39;00m\n\u001B[1;32m     68\u001B[0m rep \u001B[38;5;241m=\u001B[39m \u001B[38;5;28mgetattr\u001B[39m(M, \u001B[38;5;124m'\u001B[39m\u001B[38;5;124m_rep\u001B[39m\u001B[38;5;124m'\u001B[39m, \u001B[38;5;28;01mNone\u001B[39;00m)\n",
      "\u001B[0;31mNonSquareMatrixError\u001B[0m: "
     ]
    }
   ],
   "source": [
    "t = symbols(\"t\")\n",
    "m = Matrix(3, 4, [t, 3, -1, 1, 1, 2, 1, 2, -t, 1 ,2, -1])\n",
    "x = Matrix(3, 3, [t, 3, -1, 1, 2, 1, -t, 1, 2])\n",
    "m.det()"
   ],
   "metadata": {
    "collapsed": false
   }
  },
  {
   "cell_type": "code",
   "execution_count": 14,
   "outputs": [
    {
     "data": {
      "text/plain": "-2*t - 7",
      "text/latex": "$\\displaystyle - 2 t - 7$"
     },
     "execution_count": 14,
     "metadata": {},
     "output_type": "execute_result"
    }
   ],
   "source": [
    "x.det()"
   ],
   "metadata": {
    "collapsed": false
   }
  },
  {
   "cell_type": "code",
   "execution_count": 19,
   "outputs": [
    {
     "data": {
      "text/plain": "array([[0.03832556, 2.04765945]])"
     },
     "execution_count": 19,
     "metadata": {},
     "output_type": "execute_result"
    }
   ],
   "source": [
    "x = np.array([1, 2, 2.9]).reshape(-1, 1)\n",
    "y = np.array([2, 4.1, 6.1]).reshape(-1, 1)\n",
    "model = PolyModel(x, y, 1, ridge=0.1)\n",
    "model.coefficients()"
   ],
   "metadata": {
    "collapsed": false
   }
  },
  {
   "cell_type": "code",
   "execution_count": 20,
   "outputs": [
    {
     "data": {
      "text/plain": "array([[3.10981474]])"
     },
     "execution_count": 20,
     "metadata": {},
     "output_type": "execute_result"
    }
   ],
   "source": [
    "model.predict(np.array([1.5]).reshape(-1, 1))"
   ],
   "metadata": {
    "collapsed": false
   }
  },
  {
   "cell_type": "code",
   "execution_count": 21,
   "outputs": [
    {
     "data": {
      "text/plain": "[<matplotlib.lines.Line2D at 0x7fa861182e60>]"
     },
     "execution_count": 21,
     "metadata": {},
     "output_type": "execute_result"
    },
    {
     "data": {
      "text/plain": "<Figure size 640x480 with 1 Axes>",
      "image/png": "[encoded data removed]"
     },
     "metadata": {},
     "output_type": "display_data"
    }
   ],
   "source": [
    "x = np.linspace(0, 1, 100)\n",
    "y = x**2 + np.exp(x)\n",
    "plt.plot(x, y)"
   ],
   "metadata": {
    "collapsed": false
   }
  },
  {
   "cell_type": "code",
   "execution_count": 26,
   "outputs": [
    {
     "data": {
      "text/plain": "4"
     },
     "execution_count": 26,
     "metadata": {},
     "output_type": "execute_result"
    }
   ],
   "source": [
    "x = np.array([1, 1, -1, 1, 1, -1, -1, -1]).reshape(-1, 2)\n",
    "xs = PolyModel.unfitted_transform(x, 4)\n",
    "np.linalg.matrix_rank(xs.T)"
   ],
   "metadata": {
    "collapsed": false
   }
  },
  {
   "cell_type": "code",
   "execution_count": 31,
   "outputs": [
    {
     "data": {
      "text/plain": "array([[-27.04159168,   0.10677864,  11.35772845]])"
     },
     "execution_count": 31,
     "metadata": {},
     "output_type": "execute_result"
    }
   ],
   "source": [
    "x = np.array([70, 1.8, 74, 1.75, 65, 1.65, 69, 1.71]).reshape(-1, 2)\n",
    "y = np.array([1, 1, -1, -1]).reshape(-1, 1)\n",
    "model = PolyModel(x, y, 1)\n",
    "model.coefficients()"
   ],
   "metadata": {
    "collapsed": false
   }
  },
  {
   "cell_type": "code",
   "execution_count": 32,
   "outputs": [
    {
     "data": {
      "text/plain": "array([[0.08470306]])"
     },
     "execution_count": 32,
     "metadata": {},
     "output_type": "execute_result"
    }
   ],
   "source": [
    "model.predict(np.array([67.9, 1.75]).reshape(1, 2))"
   ],
   "metadata": {
    "collapsed": false
   }
  },
  {
   "cell_type": "code",
   "execution_count": 34,
   "outputs": [],
   "source": [
    "h = Symbol(\"h\")\n",
    "m = Matrix(1, 3, [1, 70, h]) * Matrix(model.coefficients().reshape(-1, 1))"
   ],
   "metadata": {
    "collapsed": false
   }
  },
  {
   "cell_type": "code",
   "execution_count": 37,
   "outputs": [
    {
     "data": {
      "text/plain": "[1.72279929577465]"
     },
     "execution_count": 37,
     "metadata": {},
     "output_type": "execute_result"
    }
   ],
   "source": [
    "solve(Eq(m[0], 0))"
   ],
   "metadata": {
    "collapsed": false
   }
  },
  {
   "cell_type": "code",
   "execution_count": 41,
   "outputs": [
    {
     "data": {
      "text/plain": "array([[-0.00907818]])"
     },
     "execution_count": 41,
     "metadata": {},
     "output_type": "execute_result"
    }
   ],
   "source": [
    "model.predict(np.array([70.0, 1.722]).reshape(1, 2))"
   ],
   "metadata": {
    "collapsed": false
   }
  },
  {
   "cell_type": "code",
   "execution_count": null,
   "outputs": [],
   "source": [],
   "metadata": {
    "collapsed": false
   }
  }
 ],
 "metadata": {
  "kernelspec": {
   "display_name": "Python 3",
   "language": "python",
   "name": "python3"
  },
  "language_info": {
   "codemirror_mode": {
    "name": "ipython",
    "version": 2
   },
   "file_extension": ".py",
   "mimetype": "text/x-python",
   "name": "python",
   "nbconvert_exporter": "python",
   "pygments_lexer": "ipython2",
   "version": "2.7.6"
  }
 },
 "nbformat": 4,
 "nbformat_minor": 0
}
